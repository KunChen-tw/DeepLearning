{
  "nbformat": 4,
  "nbformat_minor": 0,
  "metadata": {
    "colab": {
      "provenance": [],
      "authorship_tag": "ABX9TyPcy+2t4Mpr/jqdx8ZiSuFm",
      "include_colab_link": true
    },
    "kernelspec": {
      "name": "python3",
      "display_name": "Python 3"
    },
    "language_info": {
      "name": "python"
    }
  },
  "cells": [
    {
      "cell_type": "markdown",
      "metadata": {
        "id": "view-in-github",
        "colab_type": "text"
      },
      "source": [
        "<a href=\"https://colab.research.google.com/github/KunChen-tw/DeepLearning/blob/main/deeplearning1005_1.ipynb\" target=\"_parent\"><img src=\"https://colab.research.google.com/assets/colab-badge.svg\" alt=\"Open In Colab\"/></a>"
      ]
    },
    {
      "cell_type": "markdown",
      "source": [
        "# Example: Iris classification"
      ],
      "metadata": {
        "id": "H3tLr7NcRPwi"
      }
    },
    {
      "cell_type": "code",
      "execution_count": 1,
      "metadata": {
        "colab": {
          "base_uri": "https://localhost:8080/"
        },
        "id": "8wRNa1NRQ2em",
        "outputId": "8870736f-3e21-4777-cd03-d9ffa375e953"
      },
      "outputs": [
        {
          "output_type": "stream",
          "name": "stdout",
          "text": [
            "   sepal length (cm)  sepal width (cm)  petal length (cm)  petal width (cm)\n",
            "0                5.1               3.5                1.4               0.2\n",
            "1                4.9               3.0                1.4               0.2\n",
            "2                4.7               3.2                1.3               0.2\n",
            "3                4.6               3.1                1.5               0.2\n",
            "4                5.0               3.6                1.4               0.2\n"
          ]
        }
      ],
      "source": [
        "import numpy as np\n",
        "import pandas as pd\n",
        "from sklearn import datasets\n",
        "import torch\n",
        "torch.manual_seed(42)\n",
        "np.random.seed(40)\n",
        "\n",
        "# 鳶尾花\n",
        "dataset = datasets.load_iris()\n",
        "df = pd.DataFrame(dataset.data, columns = dataset.feature_names)\n",
        "print(df.head())\n"
      ]
    },
    {
      "cell_type": "code",
      "source": [
        "from sklearn.model_selection import train_test_split\n",
        "X_train, X_test, y_train, y_test = train_test_split(df.values,dataset.target, test_size=0.2)\n",
        "\n",
        "y_train_encoding = pd.get_dummies(y_train)\n",
        "y_test_encoding = pd.get_dummies(y_test)\n",
        "\n",
        "# To PyTorch Tensor\n",
        "X_train = torch.FloatTensor(X_train)\n",
        "y_train_encoding = torch.FloatTensor(y_train_encoding.values)\n",
        "X_test = torch.FloatTensor(X_test)\n",
        "y_test_encoding = torch.FloatTensor(y_test_encoding.values)\n",
        "print(X_train.shape, y_train_encoding.shape)\n"
      ],
      "metadata": {
        "colab": {
          "base_uri": "https://localhost:8080/"
        },
        "id": "0GXm50YGRpM0",
        "outputId": "860ad310-aa37-4e65-ea81-27b25a842654"
      },
      "execution_count": 2,
      "outputs": [
        {
          "output_type": "stream",
          "name": "stdout",
          "text": [
            "torch.Size([120, 4]) torch.Size([120, 3])\n"
          ]
        }
      ]
    },
    {
      "cell_type": "code",
      "source": [
        "import pandas as pd\n",
        "# Build a DataFrame\n",
        "data = { 'Color': ['Red', 'Blue', 'Green', 'Blue', 'Red'] }\n",
        "df = pd.DataFrame(data)\n",
        "print(df)\n",
        "# use pd.get_dummies() to transfer 'Color’ column\n",
        "dummies = pd.get_dummies(df['Color'])\n",
        "print(dummies)\n"
      ],
      "metadata": {
        "colab": {
          "base_uri": "https://localhost:8080/"
        },
        "id": "lR2kpkp8SKp7",
        "outputId": "a8012b4c-49a0-44f3-d25c-b3350e8ab147"
      },
      "execution_count": 3,
      "outputs": [
        {
          "output_type": "stream",
          "name": "stdout",
          "text": [
            "   Color\n",
            "0    Red\n",
            "1   Blue\n",
            "2  Green\n",
            "3   Blue\n",
            "4    Red\n",
            "    Blue  Green    Red\n",
            "0  False  False   True\n",
            "1   True  False  False\n",
            "2  False   True  False\n",
            "3   True  False  False\n",
            "4  False  False   True\n"
          ]
        }
      ]
    },
    {
      "cell_type": "code",
      "source": [
        "model = torch.nn.Sequential(\n",
        "    torch.nn.Linear(4, 3),\n",
        "    torch.nn.Softmax(dim=1)\n",
        ")\n",
        "loss_function = torch.nn.MSELoss(reduction='sum')\n",
        "optimizer = torch.optim.Adam(model.parameters(), lr=0.01)\n",
        "\n",
        "epochs=10000\n",
        "accuracy = []\n",
        "losses = []\n",
        "for i in range(epochs):\n",
        "    y_pred = model(X_train)\n",
        "    loss = loss_function(y_pred, y_train_encoding)\n",
        "    accuracy.append((np.argmax(y_pred.detach().numpy(), axis=1) == y_train)\n",
        "                    .sum()/y_train.shape[0]*100)\n",
        "    losses.append(loss.item())\n",
        "    optimizer.zero_grad()\n",
        "    loss.backward()\n",
        "    optimizer.step()\n",
        "    if i%100 == 0:\n",
        "        print(loss.item())\n"
      ],
      "metadata": {
        "colab": {
          "base_uri": "https://localhost:8080/"
        },
        "id": "8ZtbgrnrSXri",
        "outputId": "e25e6e5b-6168-4dbb-e809-8c29284ab950"
      },
      "execution_count": 4,
      "outputs": [
        {
          "output_type": "stream",
          "name": "stdout",
          "text": [
            "74.38209533691406\n",
            "29.350936889648438\n",
            "17.313980102539062\n",
            "12.204937934875488\n",
            "9.689881324768066\n",
            "8.243370056152344\n",
            "7.317575931549072\n",
            "6.679239749908447\n",
            "6.214489936828613\n",
            "5.861813545227051\n",
            "5.585333824157715\n",
            "5.362840175628662\n",
            "5.179901599884033\n",
            "5.02677059173584\n",
            "4.896634101867676\n",
            "4.784600734710693\n",
            "4.687069892883301\n",
            "4.6013383865356445\n",
            "4.52532958984375\n",
            "4.4574360847473145\n",
            "4.396381855010986\n",
            "4.341151714324951\n",
            "4.290925025939941\n",
            "4.245026111602783\n",
            "4.202902793884277\n",
            "4.164092540740967\n",
            "4.128210544586182\n",
            "4.0949296951293945\n",
            "4.063972473144531\n",
            "4.03510046005249\n",
            "4.008111476898193\n",
            "3.98283052444458\n",
            "3.9591031074523926\n",
            "3.936795711517334\n",
            "3.915792226791382\n",
            "3.895988941192627\n",
            "3.8772969245910645\n",
            "3.8596301078796387\n",
            "3.8429200649261475\n",
            "3.827104091644287\n",
            "3.8121187686920166\n",
            "3.797912120819092\n",
            "3.7844398021698\n",
            "3.7716546058654785\n",
            "3.7595162391662598\n",
            "3.747986078262329\n",
            "3.737032890319824\n",
            "3.726621389389038\n",
            "3.716721534729004\n",
            "3.707303285598755\n",
            "3.6983437538146973\n",
            "3.6898131370544434\n",
            "3.6816883087158203\n",
            "3.673945665359497\n",
            "3.6665608882904053\n",
            "3.659515619277954\n",
            "3.652787446975708\n",
            "3.6463522911071777\n",
            "3.640191078186035\n",
            "3.6342859268188477\n",
            "3.6286158561706543\n",
            "3.6231584548950195\n",
            "3.6178946495056152\n",
            "3.612802028656006\n",
            "3.6078615188598633\n",
            "3.6030497550964355\n",
            "3.5983426570892334\n",
            "3.593717336654663\n",
            "3.589144706726074\n",
            "3.5845978260040283\n",
            "3.5800483226776123\n",
            "3.575465679168701\n",
            "3.5708065032958984\n",
            "3.566038131713867\n",
            "3.561116933822632\n",
            "3.555999517440796\n",
            "3.5506274700164795\n",
            "3.544951915740967\n",
            "3.538914442062378\n",
            "3.532449245452881\n",
            "3.5254907608032227\n",
            "3.51796817779541\n",
            "3.5098087787628174\n",
            "3.5009398460388184\n",
            "3.491286516189575\n",
            "3.4807732105255127\n",
            "3.4693312644958496\n",
            "3.4569308757781982\n",
            "3.4440510272979736\n",
            "3.4302773475646973\n",
            "3.4160451889038086\n",
            "3.401165008544922\n",
            "3.3854570388793945\n",
            "3.369492769241333\n",
            "3.352936029434204\n",
            "3.335925817489624\n",
            "3.318401336669922\n",
            "3.3008840084075928\n",
            "3.2828428745269775\n",
            "3.2649435997009277\n"
          ]
        }
      ]
    },
    {
      "cell_type": "code",
      "source": [
        "import matplotlib.pyplot as plt\n",
        "\n",
        "plt.figure(figsize=(12,6))\n",
        "plt.subplot(1,2,1)\n",
        "plt.title('loss:', fontsize=20)\n",
        "plt.plot(range(0,epochs), losses)\n",
        "\n",
        "plt.subplot(1,2,2)\n",
        "plt.title('accuracy:', fontsize=20)\n",
        "plt.plot(range(0,epochs), accuracy)\n",
        "plt.ylim(0,100)\n",
        "plt.show()\n",
        "\n",
        "predict_test = model(X_test)\n",
        "_, y_pred = torch.max(predict_test, 1) # 因為只需要 y 的預測，但同時有 x 和 y 資料，可用底線 _, ypred 表示不存 x 的資料\n",
        "\n",
        "\n",
        "print(f'test data accuracy: {((y_pred.numpy() == y_test).sum()/y_test.shape[0]):.2f}')\n"
      ],
      "metadata": {
        "colab": {
          "base_uri": "https://localhost:8080/",
          "height": 570
        },
        "id": "IGf8qm3hUIcS",
        "outputId": "0393a961-ee80-40fc-e6fa-cfe23e5e9340"
      },
      "execution_count": 5,
      "outputs": [
        {
          "output_type": "display_data",
          "data": {
            "text/plain": [
              "<Figure size 1200x600 with 2 Axes>"
            ],
            "image/png": "[encoded data removed]"
          },
          "metadata": {}
        },
        {
          "output_type": "stream",
          "name": "stdout",
          "text": [
            "test data accuracy: 1.00\n"
          ]
        }
      ]
    }
  ]
}