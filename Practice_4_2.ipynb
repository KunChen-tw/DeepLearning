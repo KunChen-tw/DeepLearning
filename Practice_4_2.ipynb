{
  "nbformat": 4,
  "nbformat_minor": 0,
  "metadata": {
    "colab": {
      "provenance": [],
      "authorship_tag": "ABX9TyMvdxaPIQAbN7tdxZrQLkGB",
      "include_colab_link": true
    },
    "kernelspec": {
      "name": "python3",
      "display_name": "Python 3"
    },
    "language_info": {
      "name": "python"
    }
  },
  "cells": [
    {
      "cell_type": "markdown",
      "metadata": {
        "id": "view-in-github",
        "colab_type": "text"
      },
      "source": [
        "<a href=\"https://colab.research.google.com/github/KunChen-tw/DeepLearning/blob/main/Practice_4_2.ipynb\" target=\"_parent\"><img src=\"https://colab.research.google.com/assets/colab-badge.svg\" alt=\"Open In Colab\"/></a>"
      ]
    },
    {
      "cell_type": "markdown",
      "source": [
        "# Practice 4-2\n",
        "\n",
        "$$\n",
        "\\begin{bmatrix}\n",
        "1 & 2 & 3 \\\\\n",
        "4 & 5 & 6 \\\\\n",
        "1 & 4 & 1\n",
        "\\end{bmatrix}\n",
        "$$"
      ],
      "metadata": {
        "id": "_fJin-VWvvbb"
      }
    },
    {
      "cell_type": "code",
      "execution_count": 1,
      "metadata": {
        "colab": {
          "base_uri": "https://localhost:8080/"
        },
        "id": "eqBbCQTnvWX4",
        "outputId": "5a69d195-4b4b-4291-9407-3200aa9e6931"
      },
      "outputs": [
        {
          "output_type": "stream",
          "name": "stdout",
          "text": [
            "Original input feature map:\n",
            "tensor([[1., 2., 3.],\n",
            "        [4., 5., 6.],\n",
            "        [1., 4., 1.]])\n",
            "Kernel:\n",
            "tensor([[1., 1.],\n",
            "        [1., 0.]], grad_fn=<SelectBackward0>)\n",
            "\n",
            "Output feature map after transposed convolution:\n",
            "tensor([[1., 1., 2., 2., 3., 3.],\n",
            "        [1., 0., 2., 0., 3., 0.],\n",
            "        [4., 4., 5., 5., 6., 6.],\n",
            "        [4., 0., 5., 0., 6., 0.],\n",
            "        [1., 1., 4., 4., 1., 1.],\n",
            "        [1., 0., 4., 0., 1., 0.]], grad_fn=<SelectBackward0>)\n"
          ]
        }
      ],
      "source": [
        "import torch\n",
        "import torch.nn as nn\n",
        "\n",
        "# Define a 2x2 input feature map\n",
        "input_tensor = torch.tensor([[1, 2, 3],\n",
        "               [4, 5, 6],\n",
        "               [1, 4, 1]], dtype=torch.float32).unsqueeze(0).unsqueeze(0)\n",
        "\n",
        "# Shape after unsqueeze: (1, 1, 2, 2) to fit PyTorch's expected (batch_size, channels, height, width)\n",
        "\n",
        "# Define a transposed convolution layer with a 2x2 kernel, stride 2, and no bias\n",
        "deconv = nn.ConvTranspose2d(\n",
        "    in_channels=1,      # Number of input channels\n",
        "    out_channels=1,     # Number of output channels\n",
        "    kernel_size=2,      # Size of the convolutional kernel\n",
        "    stride=2,           # Stride value to expand the output size\n",
        "    bias=False          # Disable bias term\n",
        ")\n",
        "\n",
        "# Manually set the weight of the transposed convolution kernel to a simple pattern\n",
        "with torch.no_grad():\n",
        "    deconv.weight = nn.Parameter(torch.tensor([[[[1, 1],\n",
        "                           [1, 0]]]], dtype=torch.float32))\n",
        "\n",
        "# Perform forward propagation through the transposed convolution layer\n",
        "output_tensor = deconv(input_tensor)\n",
        "\n",
        "# Print input and output details\n",
        "print(\"Original input feature map:\")\n",
        "print(input_tensor[0][0])\n",
        "\n",
        "print(\"Kernel:\")\n",
        "print(deconv.weight[0][0])\n",
        "\n",
        "print(\"\\nOutput feature map after transposed convolution:\")\n",
        "print(output_tensor[0][0])\n"
      ]
    }
  ]
}