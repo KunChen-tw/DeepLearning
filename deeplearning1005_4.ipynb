{
  "nbformat": 4,
  "nbformat_minor": 0,
  "metadata": {
    "colab": {
      "provenance": [],
      "authorship_tag": "ABX9TyPLVVGFibNsQJV4aIhXTHkL",
      "include_colab_link": true
    },
    "kernelspec": {
      "name": "python3",
      "display_name": "Python 3"
    },
    "language_info": {
      "name": "python"
    }
  },
  "cells": [
    {
      "cell_type": "markdown",
      "metadata": {
        "id": "view-in-github",
        "colab_type": "text"
      },
      "source": [
        "<a href=\"https://colab.research.google.com/github/KunChen-tw/DeepLearning/blob/main/deeplearning1005_4.ipynb\" target=\"_parent\"><img src=\"https://colab.research.google.com/assets/colab-badge.svg\" alt=\"Open In Colab\"/></a>"
      ]
    },
    {
      "cell_type": "markdown",
      "source": [
        "# Hand-written Digits recognition(手寫辨識)"
      ],
      "metadata": {
        "id": "t1Swp9kKrXdJ"
      }
    },
    {
      "cell_type": "code",
      "execution_count": 3,
      "metadata": {
        "colab": {
          "base_uri": "https://localhost:8080/"
        },
        "id": "7Ux_Wba-rLKo",
        "outputId": "d853678d-4cd5-48ed-87a4-3b4b778a2b11"
      },
      "outputs": [
        {
          "output_type": "stream",
          "name": "stdout",
          "text": [
            "Downloading http://yann.lecun.com/exdb/mnist/train-images-idx3-ubyte.gz\n",
            "Failed to download (trying next):\n",
            "HTTP Error 403: Forbidden\n",
            "\n",
            "Downloading https://ossci-datasets.s3.amazonaws.com/mnist/train-images-idx3-ubyte.gz\n",
            "Downloading https://ossci-datasets.s3.amazonaws.com/mnist/train-images-idx3-ubyte.gz to MNIST/raw/train-images-idx3-ubyte.gz\n"
          ]
        },
        {
          "output_type": "stream",
          "name": "stderr",
          "text": [
            "100%|██████████| 9912422/9912422 [00:00<00:00, 19886452.45it/s]\n"
          ]
        },
        {
          "output_type": "stream",
          "name": "stdout",
          "text": [
            "Extracting MNIST/raw/train-images-idx3-ubyte.gz to MNIST/raw\n",
            "\n",
            "Downloading http://yann.lecun.com/exdb/mnist/train-labels-idx1-ubyte.gz\n",
            "Failed to download (trying next):\n",
            "HTTP Error 403: Forbidden\n",
            "\n",
            "Downloading https://ossci-datasets.s3.amazonaws.com/mnist/train-labels-idx1-ubyte.gz\n",
            "Downloading https://ossci-datasets.s3.amazonaws.com/mnist/train-labels-idx1-ubyte.gz to MNIST/raw/train-labels-idx1-ubyte.gz\n"
          ]
        },
        {
          "output_type": "stream",
          "name": "stderr",
          "text": [
            "100%|██████████| 28881/28881 [00:00<00:00, 605233.62it/s]\n"
          ]
        },
        {
          "output_type": "stream",
          "name": "stdout",
          "text": [
            "Extracting MNIST/raw/train-labels-idx1-ubyte.gz to MNIST/raw\n",
            "\n",
            "Downloading http://yann.lecun.com/exdb/mnist/t10k-images-idx3-ubyte.gz\n",
            "Failed to download (trying next):\n",
            "HTTP Error 403: Forbidden\n",
            "\n",
            "Downloading https://ossci-datasets.s3.amazonaws.com/mnist/t10k-images-idx3-ubyte.gz\n",
            "Downloading https://ossci-datasets.s3.amazonaws.com/mnist/t10k-images-idx3-ubyte.gz to MNIST/raw/t10k-images-idx3-ubyte.gz\n"
          ]
        },
        {
          "output_type": "stream",
          "name": "stderr",
          "text": [
            "100%|██████████| 1648877/1648877 [00:00<00:00, 5558258.88it/s]\n"
          ]
        },
        {
          "output_type": "stream",
          "name": "stdout",
          "text": [
            "Extracting MNIST/raw/t10k-images-idx3-ubyte.gz to MNIST/raw\n",
            "\n",
            "Downloading http://yann.lecun.com/exdb/mnist/t10k-labels-idx1-ubyte.gz\n",
            "Failed to download (trying next):\n",
            "HTTP Error 403: Forbidden\n",
            "\n",
            "Downloading https://ossci-datasets.s3.amazonaws.com/mnist/t10k-labels-idx1-ubyte.gz\n",
            "Downloading https://ossci-datasets.s3.amazonaws.com/mnist/t10k-labels-idx1-ubyte.gz to MNIST/raw/t10k-labels-idx1-ubyte.gz\n"
          ]
        },
        {
          "output_type": "stream",
          "name": "stderr",
          "text": [
            "100%|██████████| 4542/4542 [00:00<00:00, 11981464.63it/s]"
          ]
        },
        {
          "output_type": "stream",
          "name": "stdout",
          "text": [
            "Extracting MNIST/raw/t10k-labels-idx1-ubyte.gz to MNIST/raw\n",
            "\n",
            "torch.Size([60000, 28, 28]) torch.Size([10000, 28, 28])\n",
            "torch.Size([60000]) torch.Size([10000])\n"
          ]
        },
        {
          "output_type": "stream",
          "name": "stderr",
          "text": [
            "\n"
          ]
        }
      ],
      "source": [
        "import os\n",
        "import torch\n",
        "from torch import nn\n",
        "from torch.nn import functional as F\n",
        "from torch.utils.data import DataLoader, random_split\n",
        "from torchvision import transforms\n",
        "from torchvision.datasets import MNIST\n",
        "\n",
        "PATH_DATASETS = \"\"\n",
        "BATCH_SIZE = 1024\n",
        "# 偵測目前電腦是否有 cuda 可以跑，若沒有的話，用 CPU 跑\n",
        "device = torch.device(\"cuda\" if torch.cuda.is_available() else \"cpu\")\n",
        "\n",
        "# download MNIST training data at the same directory with current program file\n",
        "train_ds = MNIST(PATH_DATASETS, train=True, download=True,\n",
        "                 transform=transforms.ToTensor()) # transforms.ToTensor() 將像素範圍 0~255 轉換成 0~1\n",
        "\n",
        "# download MNIST test data\n",
        "test_ds = MNIST(PATH_DATASETS, train=False, download=True,\n",
        "                 transform=transforms.ToTensor())\n",
        "\n",
        "# the shape of training data and test data\n",
        "print(train_ds.data.shape, test_ds.data.shape)\n",
        "print(train_ds.targets.shape, test_ds.targets.shape)\n"
      ]
    },
    {
      "cell_type": "markdown",
      "source": [
        "# 顯示一張圖"
      ],
      "metadata": {
        "id": "-JkPF7PysLlS"
      }
    },
    {
      "cell_type": "code",
      "source": [
        "print(train_ds.targets[:10])\n",
        "\n",
        "import os\n",
        "os.environ[\"KMP_DUPLICATE_LIB_OK\"] = \"True\"\n",
        "\n",
        "import matplotlib.pyplot as plt\n",
        "\n",
        "X = train_ds.data[0] # without normalization\n",
        "\n",
        "plt.imshow(X.reshape(28,28), cmap='gray')\n",
        "\n",
        "plt.show()\n"
      ],
      "metadata": {
        "colab": {
          "base_uri": "https://localhost:8080/",
          "height": 447
        },
        "id": "HWEqcpNbsRVb",
        "outputId": "f5b5a2b7-d97e-4786-f1e3-396f9a03c516"
      },
      "execution_count": 4,
      "outputs": [
        {
          "output_type": "stream",
          "name": "stdout",
          "text": [
            "tensor([5, 0, 4, 1, 9, 2, 1, 3, 1, 4])\n"
          ]
        },
        {
          "output_type": "display_data",
          "data": {
            "text/plain": [
              "<Figure size 640x480 with 1 Axes>"
            ],
            "image/png": "[encoded data removed]"
          },
          "metadata": {}
        }
      ]
    },
    {
      "cell_type": "code",
      "source": [
        "# Create model\n",
        "model = torch.nn.Sequential(\n",
        "    torch.nn.Flatten(), # 將二維短陣轉成一維矩陣\n",
        "    torch.nn.Linear(28 * 28, 256),\n",
        "    torch.nn.Linear(256, 10),\n",
        ").to(device)\n",
        "\n",
        "epochs = 5\n",
        "lr=0.1\n",
        "\n",
        "# Create DataLoader\n",
        "train_loader = DataLoader(train_ds, batch_size=600)  #batch_size=600 表示一次同時處理600張資料\n",
        "\n",
        "# Set optimizer\n",
        "optimizer = torch.optim.Adadelta(model.parameters(), lr=lr)\n",
        "criterion = nn.CrossEntropyLoss()\n",
        "\n",
        "model.train() # set the model to training mode\n",
        "loss_list = []\n",
        "\n",
        "for epoch in range(1, epochs + 1):\n",
        "    for batch_idx, (data, target) in enumerate(train_loader):\n",
        "        data, target = data.to(device), target.to(device) # 設定資料在 CPU 還是 GPU 跑\n",
        "\n",
        "        optimizer.zero_grad()\n",
        "        output = model(data)\n",
        "\n",
        "        loss = criterion(output, target)\n",
        "        loss.backward()\n",
        "        optimizer.step()\n",
        "\n",
        "        if batch_idx % 10 == 0:\n",
        "            loss_list.append(loss.item())\n",
        "            batch = batch_idx * len(data)\n",
        "            data_count = len(train_loader.dataset)\n",
        "            percentage = (100. * batch_idx / len(train_loader))\n",
        "            print(f'Epoch {epoch}: [{batch:5d} / {data_count}] ({percentage:.0f} %)' +\n",
        "                  f'  Loss: {loss.item():.6f}')\n"
      ],
      "metadata": {
        "colab": {
          "base_uri": "https://localhost:8080/"
        },
        "id": "mnAFn-pXsqFi",
        "outputId": "56b88fae-85ed-4972-84de-e909e0758cd5"
      },
      "execution_count": 5,
      "outputs": [
        {
          "output_type": "stream",
          "name": "stdout",
          "text": [
            "Epoch 1: [    0 / 60000] (0 %)  Loss: 2.301491\n",
            "Epoch 1: [ 6000 / 60000] (10 %)  Loss: 1.996988\n",
            "Epoch 1: [12000 / 60000] (20 %)  Loss: 1.773235\n",
            "Epoch 1: [18000 / 60000] (30 %)  Loss: 1.553150\n",
            "Epoch 1: [24000 / 60000] (40 %)  Loss: 1.317747\n",
            "Epoch 1: [30000 / 60000] (50 %)  Loss: 1.213984\n",
            "Epoch 1: [36000 / 60000] (60 %)  Loss: 0.970798\n",
            "Epoch 1: [42000 / 60000] (70 %)  Loss: 0.945073\n",
            "Epoch 1: [48000 / 60000] (80 %)  Loss: 0.694541\n",
            "Epoch 1: [54000 / 60000] (90 %)  Loss: 0.711511\n",
            "Epoch 2: [    0 / 60000] (0 %)  Loss: 0.671602\n",
            "Epoch 2: [ 6000 / 60000] (10 %)  Loss: 0.525755\n",
            "Epoch 2: [12000 / 60000] (20 %)  Loss: 0.626637\n",
            "Epoch 2: [18000 / 60000] (30 %)  Loss: 0.538093\n",
            "Epoch 2: [24000 / 60000] (40 %)  Loss: 0.564217\n",
            "Epoch 2: [30000 / 60000] (50 %)  Loss: 0.611156\n",
            "Epoch 2: [36000 / 60000] (60 %)  Loss: 0.492979\n",
            "Epoch 2: [42000 / 60000] (70 %)  Loss: 0.593161\n",
            "Epoch 2: [48000 / 60000] (80 %)  Loss: 0.404545\n",
            "Epoch 2: [54000 / 60000] (90 %)  Loss: 0.453361\n",
            "Epoch 3: [    0 / 60000] (0 %)  Loss: 0.449682\n",
            "Epoch 3: [ 6000 / 60000] (10 %)  Loss: 0.351101\n",
            "Epoch 3: [12000 / 60000] (20 %)  Loss: 0.476425\n",
            "Epoch 3: [18000 / 60000] (30 %)  Loss: 0.387223\n",
            "Epoch 3: [24000 / 60000] (40 %)  Loss: 0.441720\n",
            "Epoch 3: [30000 / 60000] (50 %)  Loss: 0.477929\n",
            "Epoch 3: [36000 / 60000] (60 %)  Loss: 0.397578\n",
            "Epoch 3: [42000 / 60000] (70 %)  Loss: 0.515226\n",
            "Epoch 3: [48000 / 60000] (80 %)  Loss: 0.336193\n",
            "Epoch 3: [54000 / 60000] (90 %)  Loss: 0.387003\n",
            "Epoch 4: [    0 / 60000] (0 %)  Loss: 0.381752\n",
            "Epoch 4: [ 6000 / 60000] (10 %)  Loss: 0.295917\n",
            "Epoch 4: [12000 / 60000] (20 %)  Loss: 0.428581\n",
            "Epoch 4: [18000 / 60000] (30 %)  Loss: 0.334537\n",
            "Epoch 4: [24000 / 60000] (40 %)  Loss: 0.394117\n",
            "Epoch 4: [30000 / 60000] (50 %)  Loss: 0.416857\n",
            "Epoch 4: [36000 / 60000] (60 %)  Loss: 0.358076\n",
            "Epoch 4: [42000 / 60000] (70 %)  Loss: 0.483049\n",
            "Epoch 4: [48000 / 60000] (80 %)  Loss: 0.304552\n",
            "Epoch 4: [54000 / 60000] (90 %)  Loss: 0.357509\n",
            "Epoch 5: [    0 / 60000] (0 %)  Loss: 0.348440\n",
            "Epoch 5: [ 6000 / 60000] (10 %)  Loss: 0.268848\n",
            "Epoch 5: [12000 / 60000] (20 %)  Loss: 0.405170\n",
            "Epoch 5: [18000 / 60000] (30 %)  Loss: 0.308523\n",
            "Epoch 5: [24000 / 60000] (40 %)  Loss: 0.367945\n",
            "Epoch 5: [30000 / 60000] (50 %)  Loss: 0.380566\n",
            "Epoch 5: [36000 / 60000] (60 %)  Loss: 0.335846\n",
            "Epoch 5: [42000 / 60000] (70 %)  Loss: 0.465083\n",
            "Epoch 5: [48000 / 60000] (80 %)  Loss: 0.285026\n",
            "Epoch 5: [54000 / 60000] (90 %)  Loss: 0.340391\n"
          ]
        }
      ]
    },
    {
      "cell_type": "code",
      "source": [
        "import matplotlib.pyplot as plt\n",
        "plt.plot(loss_list, 'r')\n",
        "\n",
        "test_loader = DataLoader(test_ds, shuffle=False, batch_size=test_ds.targets.shape[0]) # shuffle=False 資料不打亂\n",
        "\n",
        "model.eval()\n",
        "test_loss = 0\n",
        "correct = 0\n",
        "for data, target in test_loader:\n",
        "    data, target = data.to(device), target.to(device)\n",
        "    output = model(data)\n",
        "\n",
        "    # sum up batch loss\n",
        "    test_loss += criterion(output, target).item()\n",
        "    pred = output.argmax(dim=1)\n",
        "    correct += pred.eq(target.view_as(pred)).sum().item()\n",
        "\n",
        "test_loss /= len(test_loader.dataset)\n",
        "batch = batch_idx * len(data)\n",
        "data_count = len(test_loader.dataset)\n",
        "percentage = 100. * correct / data_count\n",
        "print(f'Average_loss: {test_loss:.4f}, correct_rate: {correct}/{data_count}' +\n",
        "      f' ({percentage:.0f}%)\\n')\n"
      ],
      "metadata": {
        "colab": {
          "base_uri": "https://localhost:8080/",
          "height": 465
        },
        "id": "zhhHZTP7v1by",
        "outputId": "55f5658a-ab06-4c9f-d474-b94639f18f3d"
      },
      "execution_count": 6,
      "outputs": [
        {
          "output_type": "stream",
          "name": "stdout",
          "text": [
            "Average_loss: 0.0000, correct_rate: 9058/10000 (91%)\n",
            "\n"
          ]
        },
        {
          "output_type": "display_data",
          "data": {
            "text/plain": [
              "<Figure size 640x480 with 1 Axes>"
            ],
            "image/png": "[encoded data removed]"
          },
          "metadata": {}
        }
      ]
    },
    {
      "cell_type": "code",
      "source": [
        "predictions = []\n",
        "with torch.no_grad():\n",
        "    for i in range(20):\n",
        "        data, target = test_ds[i][0], test_ds[i][1]\n",
        "        data = data.reshape(1, *data.shape).to(device) # *:Unpack the list into independent parameters\n",
        "        output = torch.argmax(model(data), axis=-1)\n",
        "        predictions.append(str(output.item()))\n",
        "\n",
        "print('actual    :', test_ds.targets[0:20].numpy())\n",
        "print('prediction: ', ' '.join(predictions[0:20]))\n",
        "\n",
        "import numpy as np\n",
        "\n",
        "i=8 # 取第8筆資料\n",
        "data = test_ds[i][0]\n",
        "data = data.reshape(1, *data.shape).to(device) # *:Unpack the list into independent parameters\n",
        "\n",
        "#print(data.shape)\n",
        "predictions = torch.softmax(model(data), dim=1)\n",
        "print(f'0~9 predict rate: {np.around(predictions.cpu().detach().numpy(), 2)}')\n",
        "print(f'0~9 predict rate: {np.argmax(predictions.cpu().detach().numpy(), axis=-1)}')\n"
      ],
      "metadata": {
        "colab": {
          "base_uri": "https://localhost:8080/"
        },
        "id": "5fnw_iWhw3bC",
        "outputId": "15102357-e1cc-4c43-c708-fdec26903cb9"
      },
      "execution_count": 7,
      "outputs": [
        {
          "output_type": "stream",
          "name": "stdout",
          "text": [
            "actual    : [7 2 1 0 4 1 4 9 5 9 0 6 9 0 1 5 9 7 3 4]\n",
            "prediction:  7 2 1 0 4 1 4 9 6 9 0 6 9 0 1 5 9 7 3 4\n",
            "0~9 predict rate: [[0.01 0.   0.03 0.   0.03 0.01 0.9  0.   0.01 0.  ]]\n",
            "0~9 predict rate: [6]\n"
          ]
        }
      ]
    },
    {
      "cell_type": "markdown",
      "source": [
        "# 將之前訓練的模型儲存下來\n"
      ],
      "metadata": {
        "id": "dRVl78hVxgm4"
      }
    },
    {
      "cell_type": "code",
      "source": [
        "\n",
        "# save model\n",
        "torch.save(model, 'model.pt')\n",
        "\n",
        "# load model\n",
        "model = torch.load('model.pt')\n",
        "\n",
        "# save weights\n",
        "torch.save(model.state_dict(), 'model.pth')\n",
        "# model.state_dict(), using dictionary to represent parameters of model\n",
        "# load weights\n",
        "model.load_state_dict(torch.load('model.pth'))\n",
        "\n",
        "# show state_dict of each dimension\n",
        "print(\"The state_dict of each layer:\")\n",
        "for param_tensor in model.state_dict():\n",
        "    print(param_tensor, \"\\t\", model.state_dict()[param_tensor].size())\n",
        "\n"
      ],
      "metadata": {
        "colab": {
          "base_uri": "https://localhost:8080/"
        },
        "id": "umv7jLOkxrHo",
        "outputId": "b29fdf16-8782-4fc7-ab53-d5ed82719211"
      },
      "execution_count": 8,
      "outputs": [
        {
          "output_type": "stream",
          "name": "stdout",
          "text": [
            "The state_dict of each layer:\n",
            "1.weight \t torch.Size([256, 784])\n",
            "1.bias \t torch.Size([256])\n",
            "2.weight \t torch.Size([10, 256])\n",
            "2.bias \t torch.Size([10])\n"
          ]
        },
        {
          "output_type": "stream",
          "name": "stderr",
          "text": [
            "<ipython-input-8-9a423c170394>:5: FutureWarning: You are using `torch.load` with `weights_only=False` (the current default value), which uses the default pickle module implicitly. It is possible to construct malicious pickle data which will execute arbitrary code during unpickling (See https://github.com/pytorch/pytorch/blob/main/SECURITY.md#untrusted-models for more details). In a future release, the default value for `weights_only` will be flipped to `True`. This limits the functions that could be executed during unpickling. Arbitrary objects will no longer be allowed to be loaded via this mode unless they are explicitly allowlisted by the user via `torch.serialization.add_safe_globals`. We recommend you start setting `weights_only=True` for any use case where you don't have full control of the loaded file. Please open an issue on GitHub for any issues related to this experimental feature.\n",
            "  model = torch.load('model.pt')\n",
            "<ipython-input-8-9a423c170394>:11: FutureWarning: You are using `torch.load` with `weights_only=False` (the current default value), which uses the default pickle module implicitly. It is possible to construct malicious pickle data which will execute arbitrary code during unpickling (See https://github.com/pytorch/pytorch/blob/main/SECURITY.md#untrusted-models for more details). In a future release, the default value for `weights_only` will be flipped to `True`. This limits the functions that could be executed during unpickling. Arbitrary objects will no longer be allowed to be loaded via this mode unless they are explicitly allowlisted by the user via `torch.serialization.add_safe_globals`. We recommend you start setting `weights_only=True` for any use case where you don't have full control of the loaded file. Please open an issue on GitHub for any issues related to this experimental feature.\n",
            "  model.load_state_dict(torch.load('model.pth'))\n"
          ]
        }
      ]
    },
    {
      "cell_type": "markdown",
      "source": [
        "# 真實手寫資料，將手寫資料放到 myDigits\n",
        "\n",
        "![image.png](data:image/png;base64,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)"
      ],
      "metadata": {
        "id": "PWQ5VLc_y6p4"
      }
    },
    {
      "cell_type": "code",
      "source": [
        "from skimage import io\n",
        "from skimage.transform import resize\n",
        "import numpy as np\n",
        "\n",
        "for i in range(10):\n",
        "    uploaded_file = f'./mydigits/{i}.png'\n",
        "    image1 = io.imread(uploaded_file, as_gray=True)\n",
        "\n",
        "    # resize to (28, 28)\n",
        "    image_resized = resize(image1, (28, 28), anti_aliasing=True)\n",
        "    X1 = image_resized.reshape(1,28, 28)\n",
        "\n",
        "    # reverse to color (255->0, 0->255\n",
        "    X1 = torch.FloatTensor(1.0-X1).to(device)\n",
        "\n",
        "    # predict\n",
        "    predictions = torch.softmax(model(X1), dim=1)\n",
        "    print(f'actual/prediction: {i} {np.argmax(predictions.detach().cpu().numpy())}')\n"
      ],
      "metadata": {
        "id": "fhZOBgF-ylHI",
        "colab": {
          "base_uri": "https://localhost:8080/"
        },
        "outputId": "88163696-81d0-466d-af96-51e493fcd4a5"
      },
      "execution_count": 9,
      "outputs": [
        {
          "output_type": "stream",
          "name": "stdout",
          "text": [
            "actual/prediction: 0 2\n",
            "actual/prediction: 1 1\n",
            "actual/prediction: 2 2\n",
            "actual/prediction: 3 0\n",
            "actual/prediction: 4 4\n",
            "actual/prediction: 5 5\n",
            "actual/prediction: 6 6\n",
            "actual/prediction: 7 1\n",
            "actual/prediction: 8 8\n",
            "actual/prediction: 9 8\n"
          ]
        }
      ]
    }
  ]
}