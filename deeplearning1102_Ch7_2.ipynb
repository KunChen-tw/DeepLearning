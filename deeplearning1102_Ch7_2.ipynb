{
  "nbformat": 4,
  "nbformat_minor": 0,
  "metadata": {
    "colab": {
      "provenance": [],
      "authorship_tag": "ABX9TyN17+sMuSm6aJizCATBUYdM",
      "include_colab_link": true
    },
    "kernelspec": {
      "name": "python3",
      "display_name": "Python 3"
    },
    "language_info": {
      "name": "python"
    }
  },
  "cells": [
    {
      "cell_type": "markdown",
      "metadata": {
        "id": "view-in-github",
        "colab_type": "text"
      },
      "source": [
        "<a href=\"https://colab.research.google.com/github/KunChen-tw/DeepLearning/blob/main/deeplearning1102_Ch7_2.ipynb\" target=\"_parent\"><img src=\"https://colab.research.google.com/assets/colab-badge.svg\" alt=\"Open In Colab\"/></a>"
      ]
    },
    {
      "cell_type": "markdown",
      "source": [
        "# Embedding example"
      ],
      "metadata": {
        "id": "u0oQBgcZhADQ"
      }
    },
    {
      "cell_type": "code",
      "execution_count": 1,
      "metadata": {
        "id": "VmfHceRjdJWo",
        "colab": {
          "base_uri": "https://localhost:8080/"
        },
        "outputId": "d681ce93-415a-4e2c-a146-637c050dfa1f"
      },
      "outputs": [
        {
          "output_type": "stream",
          "name": "stdout",
          "text": [
            "Parameter containing:\n",
            "tensor([[-0.1221,  0.6986, -1.2757, -1.1022, -1.0388],\n",
            "        [-0.9701,  0.8597, -0.1489,  0.9425, -3.1910]], requires_grad=True)\n",
            "tensor([[-0.1221,  0.6986, -1.2757, -1.1022, -1.0388]],\n",
            "       grad_fn=<EmbeddingBackward0>)\n"
          ]
        }
      ],
      "source": [
        "import torch\n",
        "import torch.nn as nn\n",
        "import torch.nn.functional as F\n",
        "import torch.optim as optim\n",
        "# import torchtext\n",
        "import numpy as np\n",
        "import os\n",
        "os.environ[\"KMP_DUPLICATE_LIB_OK\"]=\"True\"\n",
        "\n",
        "# Test data\n",
        "word_to_ix = {\"hello\": 0, \"world\": 1}\n",
        "# A vocabulary consists of 2 words that are converted into 5-dimensional vectors\n",
        "embeds = nn.Embedding(2, 5)\n",
        "print(embeds.weight)\n",
        "\n",
        "lookup_tensor = torch.LongTensor([word_to_ix[\"hello\"]])\n",
        "hello_embed = embeds(lookup_tensor)\n",
        "print(hello_embed)\n"
      ]
    }
  ]
}