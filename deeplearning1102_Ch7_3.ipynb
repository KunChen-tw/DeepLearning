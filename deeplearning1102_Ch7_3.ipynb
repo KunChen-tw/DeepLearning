{
  "nbformat": 4,
  "nbformat_minor": 0,
  "metadata": {
    "colab": {
      "provenance": [],
      "authorship_tag": "ABX9TyPnwj2KY2HlZCUdvH4RLeuF",
      "include_colab_link": true
    },
    "kernelspec": {
      "name": "python3",
      "display_name": "Python 3"
    },
    "language_info": {
      "name": "python"
    }
  },
  "cells": [
    {
      "cell_type": "markdown",
      "metadata": {
        "id": "view-in-github",
        "colab_type": "text"
      },
      "source": [
        "<a href=\"https://colab.research.google.com/github/KunChen-tw/DeepLearning/blob/main/deeplearning1102_Ch7_3.ipynb\" target=\"_parent\"><img src=\"https://colab.research.google.com/assets/colab-badge.svg\" alt=\"Open In Colab\"/></a>"
      ]
    },
    {
      "cell_type": "markdown",
      "source": [
        "# Simple example of RNN\n"
      ],
      "metadata": {
        "id": "u0oQBgcZhADQ"
      }
    },
    {
      "cell_type": "code",
      "execution_count": 2,
      "metadata": {
        "id": "VmfHceRjdJWo",
        "colab": {
          "base_uri": "https://localhost:8080/"
        },
        "outputId": "f238d4da-7045-4c2e-f055-137d6395e7db"
      },
      "outputs": [
        {
          "output_type": "stream",
          "name": "stdout",
          "text": [
            "Collecting torchinfo\n",
            "  Downloading torchinfo-1.8.0-py3-none-any.whl.metadata (21 kB)\n",
            "Downloading torchinfo-1.8.0-py3-none-any.whl (23 kB)\n",
            "Installing collected packages: torchinfo\n",
            "Successfully installed torchinfo-1.8.0\n",
            "=================================================================\n",
            "Layer (type:depth-idx)                   Param #\n",
            "=================================================================\n",
            "RNN                                      328,960\n",
            "=================================================================\n",
            "Total params: 328,960\n",
            "Trainable params: 328,960\n",
            "Non-trainable params: 0\n",
            "=================================================================\n",
            "\n"
          ]
        }
      ],
      "source": [
        "import torch\n",
        "import torch.nn as nn\n",
        "vocab_size = 1027\n",
        "hidden_size = 256\n",
        "rnn_layer = nn.RNN(input_size=vocab_size, hidden_size=hidden_size)\n",
        "\n",
        "!pip install torchinfo\n",
        "from torchinfo import summary\n",
        "print(summary(rnn_layer))\n",
        "print()\n"
      ]
    },
    {
      "cell_type": "markdown",
      "source": [
        "# RNN using Pytorch"
      ],
      "metadata": {
        "id": "LoRf0Sav_LnW"
      }
    },
    {
      "cell_type": "code",
      "source": [
        "import torch\n",
        "import torch.nn as nn\n",
        "# Establish an RNN object\n",
        "rnn = nn.RNN(10, 20)\n",
        "# RNN processing\n",
        "# Test data\n",
        "input = torch.randn(5, 10)\n",
        "output, hn = rnn(input)\n",
        "print(output.shape, hn.shape)\n",
        "print(output)\n",
        "print('-'*100)\n",
        "print(hn)\n"
      ],
      "metadata": {
        "colab": {
          "base_uri": "https://localhost:8080/"
        },
        "id": "9ZSt7V99_QFd",
        "outputId": "cd0f2342-63a2-42cb-e048-220d34a863ec"
      },
      "execution_count": 3,
      "outputs": [
        {
          "output_type": "stream",
          "name": "stdout",
          "text": [
            "torch.Size([5, 20]) torch.Size([1, 20])\n",
            "tensor([[-0.1879, -0.1663, -0.0310, -0.7960,  0.2029,  0.0666, -0.3797,  0.3325,\n",
            "         -0.1259, -0.2405, -0.2189, -0.2502,  0.6515,  0.0551,  0.2491, -0.0742,\n",
            "          0.0077,  0.6680, -0.3628, -0.4224],\n",
            "        [-0.1389,  0.1209,  0.2434, -0.3399, -0.2268,  0.7328, -0.7845, -0.3623,\n",
            "         -0.5910, -0.6586, -0.1784, -0.6953,  0.7334, -0.3491, -0.4203, -0.1641,\n",
            "         -0.1074,  0.0879,  0.4800,  0.3231],\n",
            "        [-0.5968,  0.1897,  0.3175, -0.0205, -0.7132,  0.4241, -0.7749, -0.9465,\n",
            "         -0.9104, -0.6368, -0.7363, -0.1181,  0.5239, -0.5051, -0.3868,  0.6494,\n",
            "         -0.0959,  0.7768,  0.4737,  0.7507],\n",
            "        [ 0.1701, -0.4245,  0.4340, -0.3176, -0.6022, -0.0155,  0.3174, -0.4962,\n",
            "          0.1800, -0.7039, -0.4264,  0.1023, -0.1244, -0.4245, -0.2059,  0.1764,\n",
            "          0.1829,  0.8830, -0.6286,  0.9069],\n",
            "        [-0.8582, -0.0524, -0.2027,  0.6632, -0.4981,  0.8381, -0.1595, -0.4030,\n",
            "         -0.3252, -0.6139, -0.3465, -0.2218,  0.4238,  0.4493,  0.2129,  0.3345,\n",
            "         -0.3314,  0.3425,  0.6000,  0.4004]], grad_fn=<SqueezeBackward1>)\n",
            "----------------------------------------------------------------------------------------------------\n",
            "tensor([[-0.8582, -0.0524, -0.2027,  0.6632, -0.4981,  0.8381, -0.1595, -0.4030,\n",
            "         -0.3252, -0.6139, -0.3465, -0.2218,  0.4238,  0.4493,  0.2129,  0.3345,\n",
            "         -0.3314,  0.3425,  0.6000,  0.4004]], grad_fn=<SqueezeBackward1>)\n"
          ]
        }
      ]
    }
  ]
}