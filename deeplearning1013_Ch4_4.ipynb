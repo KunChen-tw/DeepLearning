{
  "nbformat": 4,
  "nbformat_minor": 0,
  "metadata": {
    "colab": {
      "provenance": [],
      "authorship_tag": "ABX9TyPleusUdLYbPZ9HBfqy+WKC",
      "include_colab_link": true
    },
    "kernelspec": {
      "name": "python3",
      "display_name": "Python 3"
    },
    "language_info": {
      "name": "python"
    }
  },
  "cells": [
    {
      "cell_type": "markdown",
      "metadata": {
        "id": "view-in-github",
        "colab_type": "text"
      },
      "source": [
        "<a href=\"https://colab.research.google.com/github/KunChen-tw/DeepLearning/blob/main/deeplearning1013_Ch4_4.ipynb\" target=\"_parent\"><img src=\"https://colab.research.google.com/assets/colab-badge.svg\" alt=\"Open In Colab\"/></a>"
      ]
    },
    {
      "cell_type": "markdown",
      "source": [
        "# MNIST with CNN\n",
        "\n"
      ],
      "metadata": {
        "id": "EWZDLk_mxLBt"
      }
    },
    {
      "cell_type": "markdown",
      "source": [
        "## Install torchmetrics"
      ],
      "metadata": {
        "id": "YI7B_2bqyKiT"
      }
    },
    {
      "cell_type": "code",
      "source": [
        "!pip install torchmetrics"
      ],
      "metadata": {
        "colab": {
          "base_uri": "https://localhost:8080/"
        },
        "id": "4bLlkvzRyc5q",
        "outputId": "34612dc4-90f5-43c5-a2be-05ede585179e"
      },
      "execution_count": null,
      "outputs": [
        {
          "output_type": "stream",
          "name": "stdout",
          "text": [
            "Collecting torchmetrics\n",
            "  Downloading torchmetrics-1.4.3-py3-none-any.whl.metadata (19 kB)\n",
            "Requirement already satisfied: numpy>1.20.0 in /usr/local/lib/python3.10/dist-packages (from torchmetrics) (1.26.4)\n",
            "Requirement already satisfied: packaging>17.1 in /usr/local/lib/python3.10/dist-packages (from torchmetrics) (24.1)\n",
            "Requirement already satisfied: torch>=1.10.0 in /usr/local/lib/python3.10/dist-packages (from torchmetrics) (2.4.1+cu121)\n",
            "Collecting lightning-utilities>=0.8.0 (from torchmetrics)\n",
            "  Downloading lightning_utilities-0.11.8-py3-none-any.whl.metadata (5.2 kB)\n",
            "Requirement already satisfied: setuptools in /usr/local/lib/python3.10/dist-packages (from lightning-utilities>=0.8.0->torchmetrics) (71.0.4)\n",
            "Requirement already satisfied: typing-extensions in /usr/local/lib/python3.10/dist-packages (from lightning-utilities>=0.8.0->torchmetrics) (4.12.2)\n",
            "Requirement already satisfied: filelock in /usr/local/lib/python3.10/dist-packages (from torch>=1.10.0->torchmetrics) (3.16.1)\n",
            "Requirement already satisfied: sympy in /usr/local/lib/python3.10/dist-packages (from torch>=1.10.0->torchmetrics) (1.13.3)\n",
            "Requirement already satisfied: networkx in /usr/local/lib/python3.10/dist-packages (from torch>=1.10.0->torchmetrics) (3.4)\n",
            "Requirement already satisfied: jinja2 in /usr/local/lib/python3.10/dist-packages (from torch>=1.10.0->torchmetrics) (3.1.4)\n",
            "Requirement already satisfied: fsspec in /usr/local/lib/python3.10/dist-packages (from torch>=1.10.0->torchmetrics) (2024.6.1)\n",
            "Requirement already satisfied: MarkupSafe>=2.0 in /usr/local/lib/python3.10/dist-packages (from jinja2->torch>=1.10.0->torchmetrics) (3.0.1)\n",
            "Requirement already satisfied: mpmath<1.4,>=1.1.0 in /usr/local/lib/python3.10/dist-packages (from sympy->torch>=1.10.0->torchmetrics) (1.3.0)\n",
            "Downloading torchmetrics-1.4.3-py3-none-any.whl (869 kB)\n",
            "\u001b[2K   \u001b[90m━━━━━━━━━━━━━━━━━━━━━━━━━━━━━━━━━━━━━━━━\u001b[0m \u001b[32m869.5/869.5 kB\u001b[0m \u001b[31m12.4 MB/s\u001b[0m eta \u001b[36m0:00:00\u001b[0m\n",
            "\u001b[?25hDownloading lightning_utilities-0.11.8-py3-none-any.whl (26 kB)\n",
            "Installing collected packages: lightning-utilities, torchmetrics\n",
            "Successfully installed lightning-utilities-0.11.8 torchmetrics-1.4.3\n"
          ]
        }
      ]
    },
    {
      "cell_type": "markdown",
      "source": [
        "Download MNIST data"
      ],
      "metadata": {
        "id": "hnc3d3nnyoW9"
      }
    },
    {
      "cell_type": "code",
      "execution_count": null,
      "metadata": {
        "colab": {
          "base_uri": "https://localhost:8080/"
        },
        "id": "Qe8v5KZXxFpF",
        "outputId": "1289071b-d198-4b86-e1aa-1dddcf42d265"
      },
      "outputs": [
        {
          "output_type": "stream",
          "name": "stdout",
          "text": [
            "Downloading http://yann.lecun.com/exdb/mnist/train-images-idx3-ubyte.gz\n",
            "Failed to download (trying next):\n",
            "<urlopen error [SSL: CERTIFICATE_VERIFY_FAILED] certificate verify failed: certificate has expired (_ssl.c:1007)>\n",
            "\n",
            "Downloading https://ossci-datasets.s3.amazonaws.com/mnist/train-images-idx3-ubyte.gz\n",
            "Downloading https://ossci-datasets.s3.amazonaws.com/mnist/train-images-idx3-ubyte.gz to MNIST/raw/train-images-idx3-ubyte.gz\n"
          ]
        },
        {
          "output_type": "stream",
          "name": "stderr",
          "text": [
            "100%|██████████| 9912422/9912422 [00:03<00:00, 3181172.56it/s]\n"
          ]
        },
        {
          "output_type": "stream",
          "name": "stdout",
          "text": [
            "Extracting MNIST/raw/train-images-idx3-ubyte.gz to MNIST/raw\n",
            "\n",
            "Downloading http://yann.lecun.com/exdb/mnist/train-labels-idx1-ubyte.gz\n",
            "Failed to download (trying next):\n",
            "<urlopen error [SSL: CERTIFICATE_VERIFY_FAILED] certificate verify failed: certificate has expired (_ssl.c:1007)>\n",
            "\n",
            "Downloading https://ossci-datasets.s3.amazonaws.com/mnist/train-labels-idx1-ubyte.gz\n",
            "Downloading https://ossci-datasets.s3.amazonaws.com/mnist/train-labels-idx1-ubyte.gz to MNIST/raw/train-labels-idx1-ubyte.gz\n"
          ]
        },
        {
          "output_type": "stream",
          "name": "stderr",
          "text": [
            "100%|██████████| 28881/28881 [00:00<00:00, 476126.76it/s]\n"
          ]
        },
        {
          "output_type": "stream",
          "name": "stdout",
          "text": [
            "Extracting MNIST/raw/train-labels-idx1-ubyte.gz to MNIST/raw\n",
            "\n",
            "Downloading http://yann.lecun.com/exdb/mnist/t10k-images-idx3-ubyte.gz\n",
            "Failed to download (trying next):\n",
            "<urlopen error [SSL: CERTIFICATE_VERIFY_FAILED] certificate verify failed: certificate has expired (_ssl.c:1007)>\n",
            "\n",
            "Downloading https://ossci-datasets.s3.amazonaws.com/mnist/t10k-images-idx3-ubyte.gz\n",
            "Downloading https://ossci-datasets.s3.amazonaws.com/mnist/t10k-images-idx3-ubyte.gz to MNIST/raw/t10k-images-idx3-ubyte.gz\n"
          ]
        },
        {
          "output_type": "stream",
          "name": "stderr",
          "text": [
            "100%|██████████| 1648877/1648877 [00:00<00:00, 3733502.45it/s]\n"
          ]
        },
        {
          "output_type": "stream",
          "name": "stdout",
          "text": [
            "Extracting MNIST/raw/t10k-images-idx3-ubyte.gz to MNIST/raw\n",
            "\n",
            "Downloading http://yann.lecun.com/exdb/mnist/t10k-labels-idx1-ubyte.gz\n",
            "Failed to download (trying next):\n",
            "<urlopen error [SSL: CERTIFICATE_VERIFY_FAILED] certificate verify failed: certificate has expired (_ssl.c:1007)>\n",
            "\n",
            "Downloading https://ossci-datasets.s3.amazonaws.com/mnist/t10k-labels-idx1-ubyte.gz\n",
            "Downloading https://ossci-datasets.s3.amazonaws.com/mnist/t10k-labels-idx1-ubyte.gz to MNIST/raw/t10k-labels-idx1-ubyte.gz\n"
          ]
        },
        {
          "output_type": "stream",
          "name": "stderr",
          "text": [
            "100%|██████████| 4542/4542 [00:00<00:00, 6320679.75it/s]"
          ]
        },
        {
          "output_type": "stream",
          "name": "stdout",
          "text": [
            "Extracting MNIST/raw/t10k-labels-idx1-ubyte.gz to MNIST/raw\n",
            "\n",
            "torch.Size([60000, 28, 28]) torch.Size([10000, 28, 28])\n",
            "torch.Size([60000]) torch.Size([10000])\n"
          ]
        },
        {
          "output_type": "stream",
          "name": "stderr",
          "text": [
            "\n"
          ]
        }
      ],
      "source": [
        "import os\n",
        "import torch\n",
        "from torch import nn\n",
        "from torch.nn import functional as F\n",
        "from torch.utils.data import DataLoader, random_split\n",
        "from torchmetrics import Accuracy\n",
        "from torchvision import transforms\n",
        "from torchvision.datasets import MNIST\n",
        "torch.manual_seed(16)\n",
        "\n",
        "PATH_DATASETS = \"\"\n",
        "BATCH_SIZE = 1000\n",
        "device = torch.device(\"cuda\" if torch.cuda.is_available() else \"cpu\")\n",
        "\n",
        "# Download training data of MNIST\n",
        "train_ds = MNIST(PATH_DATASETS, train=True, download=True,\n",
        "                 transform=transforms.ToTensor())\n",
        "# Download test data of MNIST\n",
        "test_ds = MNIST(PATH_DATASETS, train=False, download=True,\n",
        "                 transform=transforms.ToTensor())\n",
        "print(train_ds.data.shape, test_ds.data.shape)\n",
        "print(train_ds.targets.shape, test_ds.targets.shape)\n"
      ]
    },
    {
      "cell_type": "markdown",
      "source": [
        "## Creat model"
      ],
      "metadata": {
        "id": "aR-eJxx-xKU9"
      }
    },
    {
      "cell_type": "code",
      "source": [
        "# Create model\n",
        "class ConvNet(nn.Module):\n",
        "    def __init__(self, num_classes=10):\n",
        "        super(ConvNet, self).__init__()\n",
        "        self.layer1 = nn.Sequential(\n",
        "        nn.Conv2d(1, 16, kernel_size=5, stride=1, padding=2),\n",
        "            nn.BatchNorm2d(16),\n",
        "            nn.ReLU(),\n",
        "            nn.MaxPool2d(kernel_size=2, stride=2))\n",
        "        self.layer2 = nn.Sequential(\n",
        "            nn.Conv2d(16, 32, kernel_size=5, stride=1, padding=2),\n",
        "            nn.BatchNorm2d(32),\n",
        "            nn.ReLU(),\n",
        "            nn.MaxPool2d(kernel_size=2, stride=2))\n",
        "        self.fc = nn.Linear(7*7*32, num_classes)\n",
        "\n",
        "    def forward(self, x):\n",
        "        out = self.layer1(x)\n",
        "        out = self.layer2(out)\n",
        "        out = out.reshape(out.size(0), -1) # explain later\n",
        "        out = self.fc(out)\n",
        "        out = F.log_softmax(out, dim=1)\n",
        "        return out\n",
        "\n",
        "model = ConvNet().to(device)\n",
        "print(model)\n"
      ],
      "metadata": {
        "colab": {
          "base_uri": "https://localhost:8080/"
        },
        "id": "tJAcH0SCx85d",
        "outputId": "c379113e-4fec-4ade-cb1e-90fe2a82c305"
      },
      "execution_count": null,
      "outputs": [
        {
          "output_type": "stream",
          "name": "stdout",
          "text": [
            "ConvNet(\n",
            "  (layer1): Sequential(\n",
            "    (0): Conv2d(1, 16, kernel_size=(5, 5), stride=(1, 1), padding=(2, 2))\n",
            "    (1): BatchNorm2d(16, eps=1e-05, momentum=0.1, affine=True, track_running_stats=True)\n",
            "    (2): ReLU()\n",
            "    (3): MaxPool2d(kernel_size=2, stride=2, padding=0, dilation=1, ceil_mode=False)\n",
            "  )\n",
            "  (layer2): Sequential(\n",
            "    (0): Conv2d(16, 32, kernel_size=(5, 5), stride=(1, 1), padding=(2, 2))\n",
            "    (1): BatchNorm2d(32, eps=1e-05, momentum=0.1, affine=True, track_running_stats=True)\n",
            "    (2): ReLU()\n",
            "    (3): MaxPool2d(kernel_size=2, stride=2, padding=0, dilation=1, ceil_mode=False)\n",
            "  )\n",
            "  (fc): Linear(in_features=1568, out_features=10, bias=True)\n",
            ")\n"
          ]
        }
      ]
    },
    {
      "cell_type": "markdown",
      "source": [
        "Training and draw the loss\n"
      ],
      "metadata": {
        "id": "o7Vk6SUGy6bc"
      }
    },
    {
      "cell_type": "code",
      "source": [
        "epochs = 10\n",
        "lr=0.1\n",
        "train_loader = DataLoader(train_ds, batch_size=BATCH_SIZE)\n",
        "optimizer = torch.optim.Adam(model.parameters(), lr=lr)\n",
        "\n",
        "model.train()\n",
        "loss_list = []\n",
        "\n",
        "for epoch in range(1, epochs + 1):\n",
        "    for batch_idx, (data, target) in enumerate(train_loader):\n",
        "        data, target = data.to(device), target.to(device)\n",
        "\n",
        "        optimizer.zero_grad()\n",
        "        output = model(data)\n",
        "        loss = F.nll_loss(output, target) # introduce in next page\n",
        "        loss.backward()\n",
        "        optimizer.step()\n",
        "\n",
        "        if (batch_idx+1) % 10 == 0:\n",
        "            loss_list.append(loss.item())\n",
        "            batch = (batch_idx+1) * len(data)\n",
        "            data_count = len(train_loader.dataset)\n",
        "            percentage = (100. * (batch_idx+1) / len(train_loader))\n",
        "            print(f'Epoch {epoch}: [{batch:5d} / {data_count}] ({percentage:.0f} %)' +\n",
        "                  f'  Loss: {loss.item():.6f}')\n",
        "\n",
        "import matplotlib.pyplot as plt\n",
        "\n",
        "plt.plot(loss_list, 'r')\n",
        "plt.show()\n"
      ],
      "metadata": {
        "colab": {
          "base_uri": "https://localhost:8080/",
          "height": 1000
        },
        "id": "pQEMpd5cy8kj",
        "outputId": "af42d066-33c2-450e-c004-cb970909ef6c"
      },
      "execution_count": null,
      "outputs": [
        {
          "output_type": "stream",
          "name": "stdout",
          "text": [
            "Epoch 1: [10000 / 60000] (17 %)  Loss: 2.313241\n",
            "Epoch 1: [20000 / 60000] (33 %)  Loss: 2.317136\n",
            "Epoch 1: [30000 / 60000] (50 %)  Loss: 2.342534\n",
            "Epoch 1: [40000 / 60000] (67 %)  Loss: 2.276827\n",
            "Epoch 1: [50000 / 60000] (83 %)  Loss: 2.230478\n",
            "Epoch 1: [60000 / 60000] (100 %)  Loss: 2.051173\n",
            "Epoch 2: [10000 / 60000] (17 %)  Loss: 1.585950\n",
            "Epoch 2: [20000 / 60000] (33 %)  Loss: 1.121585\n",
            "Epoch 2: [30000 / 60000] (50 %)  Loss: 0.886556\n",
            "Epoch 2: [40000 / 60000] (67 %)  Loss: 0.748009\n",
            "Epoch 2: [50000 / 60000] (83 %)  Loss: 0.618967\n",
            "Epoch 2: [60000 / 60000] (100 %)  Loss: 0.391603\n",
            "Epoch 3: [10000 / 60000] (17 %)  Loss: 0.370228\n",
            "Epoch 3: [20000 / 60000] (33 %)  Loss: 0.336420\n",
            "Epoch 3: [30000 / 60000] (50 %)  Loss: 0.327119\n",
            "Epoch 3: [40000 / 60000] (67 %)  Loss: 0.275347\n",
            "Epoch 3: [50000 / 60000] (83 %)  Loss: 0.281837\n",
            "Epoch 3: [60000 / 60000] (100 %)  Loss: 0.171966\n",
            "Epoch 4: [10000 / 60000] (17 %)  Loss: 0.186410\n",
            "Epoch 4: [20000 / 60000] (33 %)  Loss: 0.200208\n",
            "Epoch 4: [30000 / 60000] (50 %)  Loss: 0.184223\n",
            "Epoch 4: [40000 / 60000] (67 %)  Loss: 0.205417\n",
            "Epoch 4: [50000 / 60000] (83 %)  Loss: 0.208662\n",
            "Epoch 4: [60000 / 60000] (100 %)  Loss: 0.140138\n",
            "Epoch 5: [10000 / 60000] (17 %)  Loss: 0.152966\n",
            "Epoch 5: [20000 / 60000] (33 %)  Loss: 0.154781\n",
            "Epoch 5: [30000 / 60000] (50 %)  Loss: 0.161773\n",
            "Epoch 5: [40000 / 60000] (67 %)  Loss: 0.182977\n",
            "Epoch 5: [50000 / 60000] (83 %)  Loss: 0.196210\n",
            "Epoch 5: [60000 / 60000] (100 %)  Loss: 0.129912\n",
            "Epoch 6: [10000 / 60000] (17 %)  Loss: 0.125844\n",
            "Epoch 6: [20000 / 60000] (33 %)  Loss: 0.125098\n",
            "Epoch 6: [30000 / 60000] (50 %)  Loss: 0.106043\n",
            "Epoch 6: [40000 / 60000] (67 %)  Loss: 0.149051\n",
            "Epoch 6: [50000 / 60000] (83 %)  Loss: 0.156183\n",
            "Epoch 6: [60000 / 60000] (100 %)  Loss: 0.116614\n",
            "Epoch 7: [10000 / 60000] (17 %)  Loss: 0.103746\n",
            "Epoch 7: [20000 / 60000] (33 %)  Loss: 0.103710\n",
            "Epoch 7: [30000 / 60000] (50 %)  Loss: 0.089872\n",
            "Epoch 7: [40000 / 60000] (67 %)  Loss: 0.126412\n",
            "Epoch 7: [50000 / 60000] (83 %)  Loss: 0.135724\n",
            "Epoch 7: [60000 / 60000] (100 %)  Loss: 0.106898\n",
            "Epoch 8: [10000 / 60000] (17 %)  Loss: 0.090752\n",
            "Epoch 8: [20000 / 60000] (33 %)  Loss: 0.090623\n",
            "Epoch 8: [30000 / 60000] (50 %)  Loss: 0.076760\n",
            "Epoch 8: [40000 / 60000] (67 %)  Loss: 0.112086\n",
            "Epoch 8: [50000 / 60000] (83 %)  Loss: 0.125668\n",
            "Epoch 8: [60000 / 60000] (100 %)  Loss: 0.101097\n",
            "Epoch 9: [10000 / 60000] (17 %)  Loss: 0.083954\n",
            "Epoch 9: [20000 / 60000] (33 %)  Loss: 0.088599\n",
            "Epoch 9: [30000 / 60000] (50 %)  Loss: 0.071654\n",
            "Epoch 9: [40000 / 60000] (67 %)  Loss: 0.103866\n",
            "Epoch 9: [50000 / 60000] (83 %)  Loss: 0.122496\n",
            "Epoch 9: [60000 / 60000] (100 %)  Loss: 0.096653\n",
            "Epoch 10: [10000 / 60000] (17 %)  Loss: 0.078857\n",
            "Epoch 10: [20000 / 60000] (33 %)  Loss: 0.081744\n",
            "Epoch 10: [30000 / 60000] (50 %)  Loss: 0.074357\n",
            "Epoch 10: [40000 / 60000] (67 %)  Loss: 0.100023\n",
            "Epoch 10: [50000 / 60000] (83 %)  Loss: 0.116517\n",
            "Epoch 10: [60000 / 60000] (100 %)  Loss: 0.092794\n"
          ]
        },
        {
          "output_type": "display_data",
          "data": {
            "text/plain": [
              "<Figure size 640x480 with 1 Axes>"
            ],
            "image/png": "[encoded data removed]"
          },
          "metadata": {}
        }
      ]
    },
    {
      "cell_type": "markdown",
      "source": [
        "## Correctness rate"
      ],
      "metadata": {
        "id": "VFxo0_Ds0DyW"
      }
    },
    {
      "cell_type": "code",
      "source": [
        "# Create DataLoader\n",
        "test_loader = DataLoader(test_ds, shuffle=False, batch_size=BATCH_SIZE)\n",
        "\n",
        "model.eval()\n",
        "test_loss = 0\n",
        "correct = 0\n",
        "with torch.no_grad():\n",
        "    for data, target in test_loader:\n",
        "        data, target = data.to(device), target.to(device)\n",
        "        output = model(data)\n",
        "        # sum up batch loss\n",
        "        test_loss += F.nll_loss(output, target).item()\n",
        "        output = model(data)\n",
        "        # count correctness\n",
        "        _, predicted = torch.max(output.data, 1)\n",
        "        correct += (predicted == target).sum().item()\n",
        "\n",
        "# Average loss\n",
        "test_loss /= len(test_loader.dataset)\n",
        "# Show test result\n",
        "batch = batch_idx * len(data)\n",
        "data_count = len(test_loader.dataset)\n",
        "percentage = 100. * correct / data_count\n",
        "print(f'Average loss: {test_loss:.4f}, Correctness rate: {correct}/{data_count}' +\n",
        "      f' ({percentage:.2f}%)\\n')\n"
      ],
      "metadata": {
        "id": "kvyiN3w00LMk",
        "colab": {
          "base_uri": "https://localhost:8080/"
        },
        "outputId": "bc33f913-5f31-4937-e7de-679ba871a078"
      },
      "execution_count": null,
      "outputs": [
        {
          "output_type": "stream",
          "name": "stdout",
          "text": [
            "Average loss: 0.0001, Correctness rate: 9699/10000 (96.99%)\n",
            "\n"
          ]
        }
      ]
    },
    {
      "cell_type": "markdown",
      "source": [
        "## Predict test data"
      ],
      "metadata": {
        "id": "HyT_emRp0fwc"
      }
    },
    {
      "cell_type": "code",
      "source": [
        "# Predict 20 test data\n",
        "predictions = []\n",
        "with torch.no_grad():\n",
        "    for i in range(20):\n",
        "        data, target = test_ds[i][0], test_ds[i][1]\n",
        "        data = data.reshape(1, *data.shape).to(device)\n",
        "        output = torch.argmax(model(data), axis=-1)\n",
        "        predictions.append(str(output.item()))\n",
        "\n",
        "# matching\n",
        "print('actual    :', test_ds.targets[0:20].numpy())\n",
        "print('prediction: ', ' '.join(predictions[0:20]))\n"
      ],
      "metadata": {
        "id": "x97JBMTi0ofb",
        "colab": {
          "base_uri": "https://localhost:8080/"
        },
        "outputId": "5c6a9238-b2ea-47a8-d9a5-be495c20e689"
      },
      "execution_count": null,
      "outputs": [
        {
          "output_type": "stream",
          "name": "stdout",
          "text": [
            "actual    : [7 2 1 0 4 1 4 9 5 9 0 6 9 0 1 5 9 7 3 4]\n",
            "prediction:  7 2 1 0 4 1 4 9 5 9 0 6 9 0 1 5 9 7 3 4\n"
          ]
        }
      ]
    },
    {
      "cell_type": "markdown",
      "source": [
        "## Show the probability of the 9th datum"
      ],
      "metadata": {
        "id": "9ccdA7gp08EU"
      }
    },
    {
      "cell_type": "code",
      "source": [
        "# Show the probability of the 9th datum\n",
        "import numpy as np\n",
        "\n",
        "i=18\n",
        "data = test_ds[i][0]\n",
        "data = data.reshape(1, *data.shape).to(device)\n",
        "print(data.shape)\n",
        "predictions = torch.softmax(model(data), dim=1)\n",
        "print(f' 0~9 predict probability : {np.around(predictions.cpu().detach().numpy(), 2)}')\n",
        "print(f'0~9 predict result : {np.argmax(predictions.cpu().detach().numpy(), axis=-1)}')\n",
        "\n",
        "X2 = test_ds[i][0]\n",
        "plt.imshow(X2.reshape(28,28), cmap='gray')\n",
        "plt.axis('off')\n",
        "plt.show()\n",
        "\n",
        "# Save model\n",
        "torch.save(model, 'cnn_model.pth')\n"
      ],
      "metadata": {
        "id": "9Qxizf4i1Bc0",
        "colab": {
          "base_uri": "https://localhost:8080/",
          "height": 458
        },
        "outputId": "8a70e651-5872-404e-914f-d12d4f1179c6"
      },
      "execution_count": null,
      "outputs": [
        {
          "output_type": "stream",
          "name": "stdout",
          "text": [
            "torch.Size([1, 1, 28, 28])\n",
            " 0~9 predict probability : [[0.   0.   0.   0.96 0.   0.01 0.   0.   0.04 0.  ]]\n",
            "0~9 predict result : [3]\n"
          ]
        },
        {
          "output_type": "display_data",
          "data": {
            "text/plain": [
              "<Figure size 640x480 with 1 Axes>"
            ],
            "image/png": "[encoded data removed]"
          },
          "metadata": {}
        }
      ]
    },
    {
      "cell_type": "markdown",
      "source": [
        "## Load model"
      ],
      "metadata": {
        "id": "mYgyY8SU1KhU"
      }
    },
    {
      "cell_type": "code",
      "source": [
        "# Load model\n",
        "model = torch.load('cnn_model.pth')\n",
        "\n",
        "from skimage import io\n",
        "from skimage.transform import resize\n",
        "\n",
        "no=9\n",
        "uploaded_file = f'./myDigits/{no}.png'\n",
        "image1 = io.imread(uploaded_file, as_gray=True)\n",
        "\n",
        "data_shape = data.shape\n",
        "image_resized = resize(image1, data_shape[2:], anti_aliasing=True)\n",
        "X1 = image_resized.reshape(*data_shape) #/ 255.0\n",
        "# Invert the color, in real handwritten, background is white.\n",
        "X1 = 1.0-X1\n",
        "\n",
        "import matplotlib.pyplot as plt\n",
        "\n",
        "plt.imshow(X1.reshape(28,28), cmap='gray')\n",
        "plt.axis('off')\n",
        "plt.show()\n"
      ],
      "metadata": {
        "id": "YFphm8jp1O5U",
        "colab": {
          "base_uri": "https://localhost:8080/",
          "height": 461
        },
        "outputId": "bba4e1e0-5f82-4efe-80e4-f54dc3e0a303"
      },
      "execution_count": null,
      "outputs": [
        {
          "output_type": "stream",
          "name": "stderr",
          "text": [
            "<ipython-input-11-d59973736ab6>:2: FutureWarning: You are using `torch.load` with `weights_only=False` (the current default value), which uses the default pickle module implicitly. It is possible to construct malicious pickle data which will execute arbitrary code during unpickling (See https://github.com/pytorch/pytorch/blob/main/SECURITY.md#untrusted-models for more details). In a future release, the default value for `weights_only` will be flipped to `True`. This limits the functions that could be executed during unpickling. Arbitrary objects will no longer be allowed to be loaded via this mode unless they are explicitly allowlisted by the user via `torch.serialization.add_safe_globals`. We recommend you start setting `weights_only=True` for any use case where you don't have full control of the loaded file. Please open an issue on GitHub for any issues related to this experimental feature.\n",
            "  model = torch.load('cnn_model.pth')\n"
          ]
        },
        {
          "output_type": "display_data",
          "data": {
            "text/plain": [
              "<Figure size 640x480 with 1 Axes>"
            ],
            "image/png": "[encoded data removed]"
          },
          "metadata": {}
        }
      ]
    },
    {
      "cell_type": "code",
      "source": [
        "data_shape = X1.shape\n",
        "print(data_shape)\n",
        "\n",
        "X1 = torch.FloatTensor(X1).to(device)\n",
        "\n",
        "# predict\n",
        "predictions = model(X1)\n",
        "print(f'actual/prediction: {no} {np.argmax(predictions.detach().cpu().numpy())}')\n",
        "\n",
        "print(model(X1))\n"
      ],
      "metadata": {
        "id": "XaR2SfHs1WnG",
        "colab": {
          "base_uri": "https://localhost:8080/"
        },
        "outputId": "1db5e774-ca29-451f-b1d7-52dd0ea5792b"
      },
      "execution_count": null,
      "outputs": [
        {
          "output_type": "stream",
          "name": "stdout",
          "text": [
            "(1, 1, 28, 28)\n",
            "actual/prediction: 9 8\n",
            "tensor([[-10.1190,  -3.3556,  -1.4339,  -1.5617,  -6.6165,  -4.2173, -14.0736,\n",
            "          -3.4225,  -0.7718,  -5.1053]], grad_fn=<LogSoftmaxBackward0>)\n"
          ]
        }
      ]
    },
    {
      "cell_type": "code",
      "source": [
        "# Read the image and turn to monochrome\n",
        "for i in range(10):\n",
        "    uploaded_file = f'./myDigits/{i}.png'\n",
        "    image1 = io.imread(uploaded_file, as_gray=True)\n",
        "\n",
        "    #  Image scaled to (28, 28) size\n",
        "    image_resized = resize(image1, tuple(data_shape)[2:], anti_aliasing=True)\n",
        "    X1 = image_resized.reshape(*data_shape)\n",
        "\n",
        "    # Invert the color, color 0 is white, unlike RGB color coding, its 0 is black\n",
        "    X1 = 1.0-X1\n",
        "    X1 = torch.FloatTensor(X1).to(device)\n",
        "\n",
        "    # predict\n",
        "    predictions = torch.softmax(model(X1), dim=1)\n",
        "    print(f'actual/prediction: {i} {np.argmax(predictions.detach().cpu().numpy())}')\n",
        "\n"
      ],
      "metadata": {
        "id": "ynUsVEhFXuzo"
      },
      "execution_count": null,
      "outputs": []
    }
  ]
}