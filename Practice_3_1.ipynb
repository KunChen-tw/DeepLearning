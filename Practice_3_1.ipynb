{
  "nbformat": 4,
  "nbformat_minor": 0,
  "metadata": {
    "colab": {
      "provenance": [],
      "authorship_tag": "ABX9TyPK5IbC3H71S28WQc/JMdyf",
      "include_colab_link": true
    },
    "kernelspec": {
      "name": "python3",
      "display_name": "Python 3"
    },
    "language_info": {
      "name": "python"
    }
  },
  "cells": [
    {
      "cell_type": "markdown",
      "metadata": {
        "id": "view-in-github",
        "colab_type": "text"
      },
      "source": [
        "<a href=\"https://colab.research.google.com/github/KunChen-tw/DeepLearning/blob/main/Practice_3_1.ipynb\" target=\"_parent\"><img src=\"https://colab.research.google.com/assets/colab-badge.svg\" alt=\"Open In Colab\"/></a>"
      ]
    },
    {
      "cell_type": "markdown",
      "source": [
        "# Practice 3-1\n",
        "\n",
        "Modify above program to classify even or odd.\n"
      ],
      "metadata": {
        "id": "QdPRyhAczb7_"
      }
    },
    {
      "cell_type": "code",
      "execution_count": 1,
      "metadata": {
        "colab": {
          "base_uri": "https://localhost:8080/"
        },
        "id": "RWpXoNmFzR81",
        "outputId": "f1d23d20-17a1-4d4d-b3de-6a74c2af4d91"
      },
      "outputs": [
        {
          "output_type": "stream",
          "name": "stdout",
          "text": [
            "Downloading http://yann.lecun.com/exdb/mnist/train-images-idx3-ubyte.gz\n",
            "Failed to download (trying next):\n",
            "HTTP Error 403: Forbidden\n",
            "\n",
            "Downloading https://ossci-datasets.s3.amazonaws.com/mnist/train-images-idx3-ubyte.gz\n",
            "Downloading https://ossci-datasets.s3.amazonaws.com/mnist/train-images-idx3-ubyte.gz to MNIST/raw/train-images-idx3-ubyte.gz\n"
          ]
        },
        {
          "output_type": "stream",
          "name": "stderr",
          "text": [
            "100%|██████████| 9912422/9912422 [00:00<00:00, 15962588.57it/s]\n"
          ]
        },
        {
          "output_type": "stream",
          "name": "stdout",
          "text": [
            "Extracting MNIST/raw/train-images-idx3-ubyte.gz to MNIST/raw\n",
            "\n",
            "Downloading http://yann.lecun.com/exdb/mnist/train-labels-idx1-ubyte.gz\n",
            "Failed to download (trying next):\n",
            "HTTP Error 403: Forbidden\n",
            "\n",
            "Downloading https://ossci-datasets.s3.amazonaws.com/mnist/train-labels-idx1-ubyte.gz\n",
            "Downloading https://ossci-datasets.s3.amazonaws.com/mnist/train-labels-idx1-ubyte.gz to MNIST/raw/train-labels-idx1-ubyte.gz\n"
          ]
        },
        {
          "output_type": "stream",
          "name": "stderr",
          "text": [
            "100%|██████████| 28881/28881 [00:00<00:00, 495746.65it/s]\n"
          ]
        },
        {
          "output_type": "stream",
          "name": "stdout",
          "text": [
            "Extracting MNIST/raw/train-labels-idx1-ubyte.gz to MNIST/raw\n",
            "\n",
            "Downloading http://yann.lecun.com/exdb/mnist/t10k-images-idx3-ubyte.gz\n",
            "Failed to download (trying next):\n",
            "HTTP Error 403: Forbidden\n",
            "\n",
            "Downloading https://ossci-datasets.s3.amazonaws.com/mnist/t10k-images-idx3-ubyte.gz\n",
            "Downloading https://ossci-datasets.s3.amazonaws.com/mnist/t10k-images-idx3-ubyte.gz to MNIST/raw/t10k-images-idx3-ubyte.gz\n"
          ]
        },
        {
          "output_type": "stream",
          "name": "stderr",
          "text": [
            "100%|██████████| 1648877/1648877 [00:00<00:00, 4447295.50it/s]\n"
          ]
        },
        {
          "output_type": "stream",
          "name": "stdout",
          "text": [
            "Extracting MNIST/raw/t10k-images-idx3-ubyte.gz to MNIST/raw\n",
            "\n",
            "Downloading http://yann.lecun.com/exdb/mnist/t10k-labels-idx1-ubyte.gz\n",
            "Failed to download (trying next):\n",
            "HTTP Error 403: Forbidden\n",
            "\n",
            "Downloading https://ossci-datasets.s3.amazonaws.com/mnist/t10k-labels-idx1-ubyte.gz\n",
            "Downloading https://ossci-datasets.s3.amazonaws.com/mnist/t10k-labels-idx1-ubyte.gz to MNIST/raw/t10k-labels-idx1-ubyte.gz\n"
          ]
        },
        {
          "output_type": "stream",
          "name": "stderr",
          "text": [
            "100%|██████████| 4542/4542 [00:00<00:00, 2344680.46it/s]"
          ]
        },
        {
          "output_type": "stream",
          "name": "stdout",
          "text": [
            "Extracting MNIST/raw/t10k-labels-idx1-ubyte.gz to MNIST/raw\n",
            "\n",
            "torch.Size([60000, 28, 28]) torch.Size([10000, 28, 28])\n",
            "torch.Size([60000]) torch.Size([10000])\n"
          ]
        },
        {
          "output_type": "stream",
          "name": "stderr",
          "text": [
            "\n"
          ]
        }
      ],
      "source": [
        "import os\n",
        "import torch\n",
        "from torch import nn\n",
        "from torch.nn import functional as F\n",
        "from torch.utils.data import DataLoader, random_split\n",
        "from torchvision import transforms\n",
        "from torchvision.datasets import MNIST\n",
        "\n",
        "PATH_DATASETS = \"\"\n",
        "BATCH_SIZE = 1024\n",
        "# 偵測目前電腦是否有 cuda 可以跑，若沒有的話，用 CPU 跑\n",
        "device = torch.device(\"cuda\" if torch.cuda.is_available() else \"cpu\")\n",
        "\n",
        "# download MNIST training data at the same directory with current program file\n",
        "train_ds = MNIST(PATH_DATASETS, train=True, download=True,\n",
        "                 transform=transforms.ToTensor()) # transforms.ToTensor() 將像素範圍 0~255 轉換成 0~1\n",
        "\n",
        "# download MNIST test data\n",
        "test_ds = MNIST(PATH_DATASETS, train=False, download=True,\n",
        "                 transform=transforms.ToTensor())\n",
        "\n",
        "# the shape of training data and test data\n",
        "print(train_ds.data.shape, test_ds.data.shape)\n",
        "print(train_ds.targets.shape, test_ds.targets.shape)\n",
        "\n"
      ]
    },
    {
      "cell_type": "markdown",
      "source": [
        "# 修改 targets\n",
        "\n",
        "原圖片對應的 target 是 0 到 9, 因為要判斷奇偶數，所以將 target 改成 0 為偶數，1為奇數\n"
      ],
      "metadata": {
        "id": "gZx2gDviLXzQ"
      }
    },
    {
      "cell_type": "code",
      "source": [
        "# 重新標籤，0 = 偶數，1 = 奇數\n",
        "def relabel_mnist(dataset):\n",
        "    for i in range(len(dataset.targets)):\n",
        "        dataset.targets[i] = dataset.targets[i] % 2  # 偶數為 0，奇數為 1\n",
        "    return dataset\n",
        "\n",
        "print(\"修改前：\")\n",
        "print(train_ds.targets)\n",
        "train_ds = relabel_mnist(train_ds)\n",
        "test_ds = relabel_mnist(test_ds)\n",
        "print(\"修改後：\")\n",
        "print(train_ds.targets)\n"
      ],
      "metadata": {
        "colab": {
          "base_uri": "https://localhost:8080/"
        },
        "id": "S-mgmUGTLs9v",
        "outputId": "09d2f3af-d0dc-4d65-9368-97494f3783c9"
      },
      "execution_count": 5,
      "outputs": [
        {
          "output_type": "stream",
          "name": "stdout",
          "text": [
            "修改前：\n",
            "tensor([5, 0, 4,  ..., 5, 6, 8])\n",
            "修改後：\n",
            "tensor([1, 0, 0,  ..., 1, 0, 0])\n"
          ]
        }
      ]
    },
    {
      "cell_type": "markdown",
      "source": [
        "# 修改類神經模型，原本輸出是 0到9 10個數字，改成輸出為2"
      ],
      "metadata": {
        "id": "UQ8d6NNTPESw"
      }
    },
    {
      "cell_type": "code",
      "source": [
        "# Create model\n",
        "model = torch.nn.Sequential(\n",
        "    torch.nn.Flatten(), # 將二維短陣轉成一維矩陣\n",
        "    torch.nn.Linear(28 * 28, 128), # 第一層，全連接\n",
        "    torch.nn.Linear(128, 64),     # 第二層，全連接\n",
        "    torch.nn.Linear(64, 2),     # 第三層，輸出層，改為兩個輸出（奇數和偶數）\n",
        ").to(device)"
      ],
      "metadata": {
        "id": "IVGyNo9ZT7cu"
      },
      "execution_count": 19,
      "outputs": []
    },
    {
      "cell_type": "markdown",
      "source": [
        "# 訓練模型"
      ],
      "metadata": {
        "id": "2O7B32pcUBT1"
      }
    },
    {
      "cell_type": "code",
      "source": [
        "epochs = 5\n",
        "lr=0.01\n",
        "\n",
        "# Create DataLoader\n",
        "train_loader = DataLoader(train_ds, batch_size=600)  #batch_size=600 表示一次同時處理600張資料\n",
        "\n",
        "# Set optimizer\n",
        "optimizer = torch.optim.Adam(model.parameters(), lr=lr)\n",
        "criterion = nn.CrossEntropyLoss()\n",
        "\n",
        "model.train() # set the model to training mode\n",
        "loss_list = []\n",
        "\n",
        "for epoch in range(1, epochs + 1):\n",
        "    for batch_idx, (data, target) in enumerate(train_loader):\n",
        "        data, target = data.to(device), target.to(device) # 設定資料在 CPU 還是 GPU 跑\n",
        "\n",
        "        optimizer.zero_grad()\n",
        "        output = model(data)\n",
        "\n",
        "        loss = criterion(output, target)\n",
        "        loss.backward()\n",
        "        optimizer.step()\n",
        "\n",
        "        if batch_idx % 10 == 0:\n",
        "            loss_list.append(loss.item())\n",
        "            batch = batch_idx * len(data)\n",
        "            data_count = len(train_loader.dataset)\n",
        "            percentage = (100. * batch_idx / len(train_loader))\n",
        "            print(f'Epoch {epoch}: [{batch:5d} / {data_count}] ({percentage:.0f} %)' +\n",
        "                  f'  Loss: {loss.item():.6f}')"
      ],
      "metadata": {
        "colab": {
          "base_uri": "https://localhost:8080/"
        },
        "id": "IsRzlQiTUILl",
        "outputId": "1ecfee2a-b93d-4fb7-f4a0-b3b8fc4ae517"
      },
      "execution_count": 26,
      "outputs": [
        {
          "output_type": "stream",
          "name": "stdout",
          "text": [
            "Epoch 1: [    0 / 60000] (0 %)  Loss: 0.393117\n",
            "Epoch 1: [ 6000 / 60000] (10 %)  Loss: 0.821403\n",
            "Epoch 1: [12000 / 60000] (20 %)  Loss: 1.709092\n",
            "Epoch 1: [18000 / 60000] (30 %)  Loss: 0.398588\n",
            "Epoch 1: [24000 / 60000] (40 %)  Loss: 0.420462\n",
            "Epoch 1: [30000 / 60000] (50 %)  Loss: 0.356913\n",
            "Epoch 1: [36000 / 60000] (60 %)  Loss: 0.305297\n",
            "Epoch 1: [42000 / 60000] (70 %)  Loss: 0.342231\n",
            "Epoch 1: [48000 / 60000] (80 %)  Loss: 0.279428\n",
            "Epoch 1: [54000 / 60000] (90 %)  Loss: 0.255387\n",
            "Epoch 2: [    0 / 60000] (0 %)  Loss: 0.233183\n",
            "Epoch 2: [ 6000 / 60000] (10 %)  Loss: 0.232570\n",
            "Epoch 2: [12000 / 60000] (20 %)  Loss: 0.355605\n",
            "Epoch 2: [18000 / 60000] (30 %)  Loss: 0.266842\n",
            "Epoch 2: [24000 / 60000] (40 %)  Loss: 0.240220\n",
            "Epoch 2: [30000 / 60000] (50 %)  Loss: 0.311473\n",
            "Epoch 2: [36000 / 60000] (60 %)  Loss: 0.262572\n",
            "Epoch 2: [42000 / 60000] (70 %)  Loss: 0.330348\n",
            "Epoch 2: [48000 / 60000] (80 %)  Loss: 0.253411\n",
            "Epoch 2: [54000 / 60000] (90 %)  Loss: 0.243936\n",
            "Epoch 3: [    0 / 60000] (0 %)  Loss: 0.220194\n",
            "Epoch 3: [ 6000 / 60000] (10 %)  Loss: 0.232337\n",
            "Epoch 3: [12000 / 60000] (20 %)  Loss: 0.339960\n",
            "Epoch 3: [18000 / 60000] (30 %)  Loss: 0.259423\n",
            "Epoch 3: [24000 / 60000] (40 %)  Loss: 0.238130\n",
            "Epoch 3: [30000 / 60000] (50 %)  Loss: 0.308130\n",
            "Epoch 3: [36000 / 60000] (60 %)  Loss: 0.260576\n",
            "Epoch 3: [42000 / 60000] (70 %)  Loss: 0.325063\n",
            "Epoch 3: [48000 / 60000] (80 %)  Loss: 0.250922\n",
            "Epoch 3: [54000 / 60000] (90 %)  Loss: 0.241959\n",
            "Epoch 4: [    0 / 60000] (0 %)  Loss: 0.216622\n",
            "Epoch 4: [ 6000 / 60000] (10 %)  Loss: 0.229755\n",
            "Epoch 4: [12000 / 60000] (20 %)  Loss: 0.328324\n",
            "Epoch 4: [18000 / 60000] (30 %)  Loss: 0.256305\n",
            "Epoch 4: [24000 / 60000] (40 %)  Loss: 0.232710\n",
            "Epoch 4: [30000 / 60000] (50 %)  Loss: 0.292036\n",
            "Epoch 4: [36000 / 60000] (60 %)  Loss: 0.265193\n",
            "Epoch 4: [42000 / 60000] (70 %)  Loss: 0.307514\n",
            "Epoch 4: [48000 / 60000] (80 %)  Loss: 0.251074\n",
            "Epoch 4: [54000 / 60000] (90 %)  Loss: 0.239723\n",
            "Epoch 5: [    0 / 60000] (0 %)  Loss: 0.216195\n",
            "Epoch 5: [ 6000 / 60000] (10 %)  Loss: 0.225356\n",
            "Epoch 5: [12000 / 60000] (20 %)  Loss: 0.327541\n",
            "Epoch 5: [18000 / 60000] (30 %)  Loss: 0.258343\n",
            "Epoch 5: [24000 / 60000] (40 %)  Loss: 0.231816\n",
            "Epoch 5: [30000 / 60000] (50 %)  Loss: 0.282097\n",
            "Epoch 5: [36000 / 60000] (60 %)  Loss: 0.262433\n",
            "Epoch 5: [42000 / 60000] (70 %)  Loss: 0.307511\n",
            "Epoch 5: [48000 / 60000] (80 %)  Loss: 0.248359\n",
            "Epoch 5: [54000 / 60000] (90 %)  Loss: 0.236641\n"
          ]
        }
      ]
    },
    {
      "cell_type": "markdown",
      "source": [
        "# Loss 每次訓練的變化"
      ],
      "metadata": {
        "id": "2-85uFNNUddd"
      }
    },
    {
      "cell_type": "code",
      "source": [
        "import matplotlib.pyplot as plt\n",
        "plt.plot(loss_list, 'r')\n",
        "\n",
        "test_loader = DataLoader(test_ds, shuffle=False, batch_size=test_ds.targets.shape[0]) # shuffle=False 資料不打亂\n",
        "\n",
        "model.eval()\n",
        "test_loss = 0\n",
        "correct = 0\n",
        "for data, target in test_loader:\n",
        "    data, target = data.to(device), target.to(device)\n",
        "    output = model(data)\n",
        "\n",
        "    # sum up batch loss\n",
        "    test_loss += criterion(output, target).item()\n",
        "    pred = output.argmax(dim=1)\n",
        "    correct += pred.eq(target.view_as(pred)).sum().item()\n",
        "\n",
        "test_loss /= len(test_loader.dataset)\n",
        "batch = batch_idx * len(data)\n",
        "data_count = len(test_loader.dataset)\n",
        "percentage = 100. * correct / data_count\n",
        "print(f'Average_loss: {test_loss:.4f}, correct_rate: {correct}/{data_count}' +\n",
        "      f' ({percentage:.0f}%)\\n')"
      ],
      "metadata": {
        "colab": {
          "base_uri": "https://localhost:8080/",
          "height": 465
        },
        "id": "yDXbV410UiMm",
        "outputId": "f27c95f1-792a-4683-b19e-f13fa1011214"
      },
      "execution_count": 27,
      "outputs": [
        {
          "output_type": "stream",
          "name": "stdout",
          "text": [
            "Average_loss: 0.0000, correct_rate: 9002/10000 (90%)\n",
            "\n"
          ]
        },
        {
          "output_type": "display_data",
          "data": {
            "text/plain": [
              "<Figure size 640x480 with 1 Axes>"
            ],
            "image/png": "[encoded data removed]"
          },
          "metadata": {}
        }
      ]
    },
    {
      "cell_type": "markdown",
      "source": [
        "# 預測資料"
      ],
      "metadata": {
        "id": "e6KGnyBOUqH1"
      }
    },
    {
      "cell_type": "code",
      "source": [
        "predictions = []\n",
        "with torch.no_grad():\n",
        "    for i in range(20):\n",
        "        data, target = test_ds[i][0], test_ds[i][1]\n",
        "        data = data.reshape(1, *data.shape).to(device) # *:Unpack the list into independent parameters\n",
        "        output = torch.argmax(model(data), dim=1)\n",
        "        predictions.append(str(output.item()))\n",
        "\n",
        "print('actual    :', test_ds.targets[0:20].numpy())\n",
        "print('prediction: ', ' '.join(predictions[0:20]))\n",
        "\n",
        "import numpy as np\n",
        "\n",
        "i=8 # 取第8筆資料\n",
        "data = test_ds[i][0]\n",
        "data = data.reshape(1, *data.shape).to(device) # *:Unpack the list into independent parameters\n",
        "\n",
        "#print(data.shape)\n",
        "predictions = torch.softmax(model(data), dim=1)\n",
        "print(f'even or odd predict rate: {np.around(predictions.cpu().detach().numpy(), 2)}')\n",
        "# print(f'even or odd predict rate: {np.argmax(predictions.cpu().detach().numpy(), dim=1)}')"
      ],
      "metadata": {
        "colab": {
          "base_uri": "https://localhost:8080/"
        },
        "id": "BdkvUQ_wUub9",
        "outputId": "99c657fd-51f2-4b4a-d651-cacf73121fd9"
      },
      "execution_count": 28,
      "outputs": [
        {
          "output_type": "stream",
          "name": "stdout",
          "text": [
            "actual    : [1 0 1 0 0 1 0 1 1 1 0 0 1 0 1 1 1 1 1 0]\n",
            "prediction:  1 0 1 0 0 1 0 1 0 1 0 0 1 0 1 1 1 1 1 0\n",
            "even or odd predict rate: [[0.59 0.41]]\n"
          ]
        }
      ]
    }
  ]
}