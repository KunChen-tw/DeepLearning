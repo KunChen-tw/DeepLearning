{
  "nbformat": 4,
  "nbformat_minor": 0,
  "metadata": {
    "colab": {
      "provenance": [],
      "authorship_tag": "ABX9TyN+ih6BMoXJaHV0y1cQHPhu",
      "include_colab_link": true
    },
    "kernelspec": {
      "name": "python3",
      "display_name": "Python 3"
    },
    "language_info": {
      "name": "python"
    }
  },
  "cells": [
    {
      "cell_type": "markdown",
      "metadata": {
        "id": "view-in-github",
        "colab_type": "text"
      },
      "source": [
        "<a href=\"https://colab.research.google.com/github/KunChen-tw/DeepLearning/blob/main/deeplearning1005_3.ipynb\" target=\"_parent\"><img src=\"https://colab.research.google.com/assets/colab-badge.svg\" alt=\"Open In Colab\"/></a>"
      ]
    },
    {
      "cell_type": "markdown",
      "source": [
        "# unsqueeze"
      ],
      "metadata": {
        "id": "5MiGSq7WaGZY"
      }
    },
    {
      "cell_type": "code",
      "execution_count": null,
      "metadata": {
        "colab": {
          "base_uri": "https://localhost:8080/"
        },
        "id": "MQnrc6yiaF34",
        "outputId": "1976f3b3-3fba-4e5f-867b-1dd85065e30a"
      },
      "outputs": [
        {
          "output_type": "stream",
          "name": "stdout",
          "text": [
            "Original tensor: tensor([1, 2, 3, 4])\n",
            "Original shape: torch.Size([4])\n",
            "Tensor after unsqueeze at dim 0: tensor([[1, 2, 3, 4]])\n",
            "Shape after unsqueeze at dim 0: torch.Size([1, 4])\n",
            "Tensor after unsqueeze at dim 1: tensor([[1],\n",
            "        [2],\n",
            "        [3],\n",
            "        [4]])\n",
            "Shape after unsqueeze at dim 1: torch.Size([4, 1])\n"
          ]
        }
      ],
      "source": [
        "import torch\n",
        "\n",
        "# Build a 1D tensor\n",
        "x = torch.tensor([1, 2, 3, 4])\n",
        "\n",
        "print(\"Original tensor:\", x)\n",
        "print(\"Original shape:\", x.shape)\n",
        "\n",
        "# Use unsqueeze to add a new dimension in dimension 0\n",
        "x_unsqueezed = x.unsqueeze(0)\n",
        "\n",
        "print(\"Tensor after unsqueeze at dim 0:\", x_unsqueezed)\n",
        "print(\"Shape after unsqueeze at dim 0:\", x_unsqueezed.shape)\n",
        "\n",
        "# Use unsqueeze to add a new dimension in dimension 1\n",
        "x_unsqueezed_1 = x.unsqueeze(1)\n",
        "\n",
        "print(\"Tensor after unsqueeze at dim 1:\", x_unsqueezed_1)\n",
        "print(\"Shape after unsqueeze at dim 1:\", x_unsqueezed_1.shape)"
      ]
    },
    {
      "cell_type": "markdown",
      "source": [
        "# Another definition of the simple neural network model\n"
      ],
      "metadata": {
        "id": "P5kokHOReJvh"
      }
    },
    {
      "cell_type": "code",
      "source": [
        "# 原本模型\n",
        "model = torch.nn.Sequential(\n",
        "    torch.nn.Linear(1, 10),\n",
        "    torch.nn.ReLU(),\n",
        "    torch.nn.Linear(10, 1)\n",
        ")\n",
        "\n",
        "\n",
        "# 改成類別寫法\n",
        "#Define a simple neural network model\n",
        "class QuadraticModel(nn.Module):\n",
        "    def __init__(self):\n",
        "        super(QuadraticModel, self).__init__()\n",
        "        self.fc1 = nn.Linear(1, 10)  # Input layer to hidden layer\n",
        "        self.fc2 = nn.Linear(10, 1)  # Hide layer to output layer\n",
        "\n",
        "    def forward(self, x):\n",
        "        x = torch.relu(self.fc1(x))\n",
        "        x = self.fc2(x)\n",
        "        return x\n",
        "# Create a model\n",
        "model = QuadraticModel()\n"
      ],
      "metadata": {
        "id": "6xqn9hKme6zm"
      },
      "execution_count": null,
      "outputs": []
    }
  ]
}