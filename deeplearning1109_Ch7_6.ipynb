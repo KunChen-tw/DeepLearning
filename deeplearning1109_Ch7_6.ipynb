{
  "nbformat": 4,
  "nbformat_minor": 0,
  "metadata": {
    "colab": {
      "provenance": [],
      "gpuType": "T4",
      "authorship_tag": "ABX9TyOxrvHwNtHYJF08NnbKFUWC",
      "include_colab_link": true
    },
    "kernelspec": {
      "name": "python3",
      "display_name": "Python 3"
    },
    "language_info": {
      "name": "python"
    },
    "accelerator": "GPU"
  },
  "cells": [
    {
      "cell_type": "markdown",
      "metadata": {
        "id": "view-in-github",
        "colab_type": "text"
      },
      "source": [
        "<a href=\"https://colab.research.google.com/github/KunChen-tw/DeepLearning/blob/main/deeplearning1109_Ch7_6.ipynb\" target=\"_parent\"><img src=\"https://colab.research.google.com/assets/colab-badge.svg\" alt=\"Open In Colab\"/></a>"
      ]
    },
    {
      "cell_type": "markdown",
      "source": [
        "# The comparison between RNN and LSTM in temperature prediction (1)\n"
      ],
      "metadata": {
        "id": "u0oQBgcZhADQ"
      }
    },
    {
      "cell_type": "code",
      "execution_count": 2,
      "metadata": {
        "id": "VmfHceRjdJWo",
        "colab": {
          "base_uri": "https://localhost:8080/"
        },
        "outputId": "73457a7b-eadb-4d4f-a6d2-f2a907a814f8"
      },
      "outputs": [
        {
          "output_type": "stream",
          "name": "stdout",
          "text": [
            "Using device: cuda\n"
          ]
        }
      ],
      "source": [
        "import numpy as np\n",
        "import pandas as pd\n",
        "import torch\n",
        "import torch.nn as nn\n",
        "from sklearn.preprocessing import MinMaxScaler\n",
        "from sklearn.model_selection import train_test_split\n",
        "from sklearn.metrics import mean_absolute_error\n",
        "torch.manual_seed(18)\n",
        "\n",
        "# Check if GPU is available\n",
        "device = torch.device(\"cuda\" if torch.cuda.is_available() else \"cpu\")\n",
        "print(f\"Using device: {device}\")\n",
        "\n",
        "# Assuming there is a temperature dataset\n",
        "# Load the data, e.g., data.csv contains date and temperature\n",
        "data = pd.read_csv('temperature_data.csv')  # Ensure the file contains date and temperature columns\n",
        "temperature_data = data['temperature'].values  # Extract temperature data\n"
      ]
    },
    {
      "cell_type": "markdown",
      "source": [
        "# The comparison between RNN and LSTM in temperature prediction (2)"
      ],
      "metadata": {
        "id": "VvPAVJRlgyuZ"
      }
    },
    {
      "cell_type": "code",
      "source": [
        "# Normalize data\n",
        "scaler = MinMaxScaler(feature_range=(0, 1))\n",
        "temperature_data = scaler.fit_transform(temperature_data.reshape(-1, 1)).flatten()\n",
        "\n",
        "# Build sequence data\n",
        "seq_length = 10  # Use the temperature of the previous 10 days to predict the next day\n",
        "X = []\n",
        "y = []\n",
        "for i in range(len(temperature_data) - seq_length):\n",
        "    X.append(temperature_data[i:i+seq_length])\n",
        "    y.append(temperature_data[i+seq_length])\n",
        "\n",
        "X = torch.tensor(X, dtype=torch.float32).unsqueeze(-1).to(device)\n",
        "y = torch.tensor(y, dtype=torch.float32).to(device)\n",
        "\n",
        "# Split into training and testing sets\n",
        "X_train, X_test, y_train, y_test = train_test_split(X, y, test_size=0.2, shuffle=False)\n"
      ],
      "metadata": {
        "id": "uCS1iKmIhUpZ",
        "colab": {
          "base_uri": "https://localhost:8080/"
        },
        "outputId": "8529d092-2a34-47c7-ce4f-7c241d73d1bf"
      },
      "execution_count": 3,
      "outputs": [
        {
          "output_type": "stream",
          "name": "stderr",
          "text": [
            "<ipython-input-3-320cbdf1f303>:13: UserWarning: Creating a tensor from a list of numpy.ndarrays is extremely slow. Please consider converting the list to a single numpy.ndarray with numpy.array() before converting to a tensor. (Triggered internally at ../torch/csrc/utils/tensor_new.cpp:278.)\n",
            "  X = torch.tensor(X, dtype=torch.float32).unsqueeze(-1).to(device)\n"
          ]
        }
      ]
    },
    {
      "cell_type": "markdown",
      "source": [
        "# Define the LSTM and RNN model\n"
      ],
      "metadata": {
        "id": "lfVduHuFnsMO"
      }
    },
    {
      "cell_type": "code",
      "source": [
        "# Define LSTM model\n",
        "class TemperatureLSTM(nn.Module):\n",
        "    def __init__(self, input_size=1, hidden_size=50, output_size=1):\n",
        "        super(TemperatureLSTM, self).__init__()\n",
        "        self.lstm = nn.LSTM(input_size, hidden_size, batch_first=True)\n",
        "        self.fc = nn.Linear(hidden_size, output_size)\n",
        "    def forward(self, x):\n",
        "        out, _ = self.lstm(x)\n",
        "        out = self.fc(out[:, -1, :])  # Take the last output of LSTM\n",
        "        return out\n",
        "\n",
        "# Define RNN model\n",
        "class TemperatureRNN(nn.Module):\n",
        "    def __init__(self, input_size=1, hidden_size=50, output_size=1):\n",
        "        super(TemperatureRNN, self).__init__()\n",
        "        self.rnn = nn.RNN(input_size, hidden_size, batch_first=True)\n",
        "        self.fc = nn.Linear(hidden_size, output_size)\n",
        "    def forward(self, x):\n",
        "        out, _ = self.rnn(x)\n",
        "        out = self.fc(out[:, -1, :])  # Take the last output of RNN\n",
        "        return out\n",
        "\n",
        "# Initialize models, loss function, and optimizer\n",
        "lstm_model = TemperatureLSTM().to(device)\n",
        "rnn_model = TemperatureRNN().to(device)\n",
        "!pip install torchinfo\n",
        "from torchinfo import summary\n",
        "print(summary(lstm_model))\n",
        "print(summary(rnn_model))"
      ],
      "metadata": {
        "colab": {
          "base_uri": "https://localhost:8080/"
        },
        "id": "BehtfvFwnr9X",
        "outputId": "e6b61f8f-a9e0-4b18-f225-0def40878ab3"
      },
      "execution_count": 6,
      "outputs": [
        {
          "output_type": "stream",
          "name": "stdout",
          "text": [
            "Collecting torchinfo\n",
            "  Downloading torchinfo-1.8.0-py3-none-any.whl.metadata (21 kB)\n",
            "Downloading torchinfo-1.8.0-py3-none-any.whl (23 kB)\n",
            "Installing collected packages: torchinfo\n",
            "Successfully installed torchinfo-1.8.0\n",
            "=================================================================\n",
            "Layer (type:depth-idx)                   Param #\n",
            "=================================================================\n",
            "TemperatureLSTM                          --\n",
            "├─LSTM: 1-1                              10,600\n",
            "├─Linear: 1-2                            51\n",
            "=================================================================\n",
            "Total params: 10,651\n",
            "Trainable params: 10,651\n",
            "Non-trainable params: 0\n",
            "=================================================================\n",
            "=================================================================\n",
            "Layer (type:depth-idx)                   Param #\n",
            "=================================================================\n",
            "TemperatureRNN                           --\n",
            "├─RNN: 1-1                               2,650\n",
            "├─Linear: 1-2                            51\n",
            "=================================================================\n",
            "Total params: 2,701\n",
            "Trainable params: 2,701\n",
            "Non-trainable params: 0\n",
            "=================================================================\n"
          ]
        }
      ]
    },
    {
      "cell_type": "markdown",
      "source": [
        "# Training RNN and LSTM model"
      ],
      "metadata": {
        "id": "Rn6cPMjgqaJH"
      }
    },
    {
      "cell_type": "code",
      "source": [
        "# Initialize models, loss function, and optimizer\n",
        "criterion = nn.MSELoss()\n",
        "\n",
        "# Training function\n",
        "def train_model(model, X_train, y_train, optimizer, epochs=1000):\n",
        "    for epoch in range(epochs):\n",
        "        model.train()\n",
        "        optimizer.zero_grad()\n",
        "        outputs = model(X_train)\n",
        "        loss = criterion(outputs.squeeze(), y_train)\n",
        "        loss.backward()\n",
        "        optimizer.step()\n",
        "        if epoch % 10 == 0:\n",
        "            print(f'Epoch {epoch}, Loss: {loss.item():.4f}')\n",
        "\n",
        "# Initialize optimizers\n",
        "lstm_optimizer = torch.optim.Adam(lstm_model.parameters(), lr=0.05)\n",
        "rnn_optimizer = torch.optim.Adam(rnn_model.parameters(), lr=0.05)\n",
        "\n",
        "# Train LSTM model\n",
        "print(\"Training LSTM model...\")\n",
        "train_model(lstm_model, X_train, y_train, lstm_optimizer)\n",
        "\n",
        "# Train RNN model\n",
        "print(\"Training RNN model...\")\n",
        "train_model(rnn_model, X_train, y_train, rnn_optimizer)\n"
      ],
      "metadata": {
        "colab": {
          "base_uri": "https://localhost:8080/"
        },
        "id": "tzGcb_Brqc__",
        "outputId": "958a1ae9-eb88-400a-a816-e255166e43aa"
      },
      "execution_count": 14,
      "outputs": [
        {
          "output_type": "stream",
          "name": "stdout",
          "text": [
            "Training LSTM model...\n",
            "Epoch 0, Loss: 0.0074\n",
            "Epoch 10, Loss: 0.0104\n",
            "Epoch 20, Loss: 0.0114\n",
            "Epoch 30, Loss: 0.0090\n",
            "Epoch 40, Loss: 0.0081\n",
            "Epoch 50, Loss: 0.0077\n",
            "Epoch 60, Loss: 0.0077\n",
            "Epoch 70, Loss: 0.0077\n",
            "Epoch 80, Loss: 0.0076\n",
            "Epoch 90, Loss: 0.0076\n",
            "Epoch 100, Loss: 0.0076\n",
            "Epoch 110, Loss: 0.0076\n",
            "Epoch 120, Loss: 0.0076\n",
            "Epoch 130, Loss: 0.0076\n",
            "Epoch 140, Loss: 0.0076\n",
            "Epoch 150, Loss: 0.0076\n",
            "Epoch 160, Loss: 0.0075\n",
            "Epoch 170, Loss: 0.0075\n",
            "Epoch 180, Loss: 0.0075\n",
            "Epoch 190, Loss: 0.0075\n",
            "Epoch 200, Loss: 0.0075\n",
            "Epoch 210, Loss: 0.0075\n",
            "Epoch 220, Loss: 0.0075\n",
            "Epoch 230, Loss: 0.0075\n",
            "Epoch 240, Loss: 0.0075\n",
            "Epoch 250, Loss: 0.0075\n",
            "Epoch 260, Loss: 0.0075\n",
            "Epoch 270, Loss: 0.0075\n",
            "Epoch 280, Loss: 0.0075\n",
            "Epoch 290, Loss: 0.0075\n",
            "Epoch 300, Loss: 0.0075\n",
            "Epoch 310, Loss: 0.0075\n",
            "Epoch 320, Loss: 0.0075\n",
            "Epoch 330, Loss: 0.0075\n",
            "Epoch 340, Loss: 0.0075\n",
            "Epoch 350, Loss: 0.0075\n",
            "Epoch 360, Loss: 0.0075\n",
            "Epoch 370, Loss: 0.0075\n",
            "Epoch 380, Loss: 0.0075\n",
            "Epoch 390, Loss: 0.0075\n",
            "Epoch 400, Loss: 0.0075\n",
            "Epoch 410, Loss: 0.0075\n",
            "Epoch 420, Loss: 0.0075\n",
            "Epoch 430, Loss: 0.0074\n",
            "Epoch 440, Loss: 0.0074\n",
            "Epoch 450, Loss: 0.0074\n",
            "Epoch 460, Loss: 0.0074\n",
            "Epoch 470, Loss: 0.0074\n",
            "Epoch 480, Loss: 0.0074\n",
            "Epoch 490, Loss: 0.0074\n",
            "Epoch 500, Loss: 0.0074\n",
            "Epoch 510, Loss: 0.0074\n",
            "Epoch 520, Loss: 0.0074\n",
            "Epoch 530, Loss: 0.0074\n",
            "Epoch 540, Loss: 0.0074\n",
            "Epoch 550, Loss: 0.0074\n",
            "Epoch 560, Loss: 0.0074\n",
            "Epoch 570, Loss: 0.0074\n",
            "Epoch 580, Loss: 0.0074\n",
            "Epoch 590, Loss: 0.0111\n",
            "Epoch 600, Loss: 0.0076\n",
            "Epoch 610, Loss: 0.0076\n",
            "Epoch 620, Loss: 0.0075\n",
            "Epoch 630, Loss: 0.0074\n",
            "Epoch 640, Loss: 0.0074\n",
            "Epoch 650, Loss: 0.0074\n",
            "Epoch 660, Loss: 0.0074\n",
            "Epoch 670, Loss: 0.0074\n",
            "Epoch 680, Loss: 0.0074\n",
            "Epoch 690, Loss: 0.0074\n",
            "Epoch 700, Loss: 0.0074\n",
            "Epoch 710, Loss: 0.0073\n",
            "Epoch 720, Loss: 0.0073\n",
            "Epoch 730, Loss: 0.0073\n",
            "Epoch 740, Loss: 0.0073\n",
            "Epoch 750, Loss: 0.0073\n",
            "Epoch 760, Loss: 0.0073\n",
            "Epoch 770, Loss: 0.0073\n",
            "Epoch 780, Loss: 0.0073\n",
            "Epoch 790, Loss: 0.0073\n",
            "Epoch 800, Loss: 0.0073\n",
            "Epoch 810, Loss: 0.0072\n",
            "Epoch 820, Loss: 0.0074\n",
            "Epoch 830, Loss: 0.0073\n",
            "Epoch 840, Loss: 0.0073\n",
            "Epoch 850, Loss: 0.0072\n",
            "Epoch 860, Loss: 0.0072\n",
            "Epoch 870, Loss: 0.0072\n",
            "Epoch 880, Loss: 0.0072\n",
            "Epoch 890, Loss: 0.0072\n",
            "Epoch 900, Loss: 0.0072\n",
            "Epoch 910, Loss: 0.0071\n",
            "Epoch 920, Loss: 0.0077\n",
            "Epoch 930, Loss: 0.0077\n",
            "Epoch 940, Loss: 0.0072\n",
            "Epoch 950, Loss: 0.0072\n",
            "Epoch 960, Loss: 0.0071\n",
            "Epoch 970, Loss: 0.0071\n",
            "Epoch 980, Loss: 0.0071\n",
            "Epoch 990, Loss: 0.0070\n",
            "Training RNN model...\n",
            "Epoch 0, Loss: 0.0079\n",
            "Epoch 10, Loss: 0.3666\n",
            "Epoch 20, Loss: 0.0381\n",
            "Epoch 30, Loss: 0.0196\n",
            "Epoch 40, Loss: 0.0320\n",
            "Epoch 50, Loss: 0.0147\n",
            "Epoch 60, Loss: 0.0092\n",
            "Epoch 70, Loss: 0.0096\n",
            "Epoch 80, Loss: 0.0087\n",
            "Epoch 90, Loss: 0.0087\n",
            "Epoch 100, Loss: 0.0086\n",
            "Epoch 110, Loss: 0.0086\n",
            "Epoch 120, Loss: 0.0085\n",
            "Epoch 130, Loss: 0.0085\n",
            "Epoch 140, Loss: 0.0085\n",
            "Epoch 150, Loss: 0.0084\n",
            "Epoch 160, Loss: 0.0084\n",
            "Epoch 170, Loss: 0.0084\n",
            "Epoch 180, Loss: 0.0083\n",
            "Epoch 190, Loss: 0.0083\n",
            "Epoch 200, Loss: 0.0083\n",
            "Epoch 210, Loss: 0.0082\n",
            "Epoch 220, Loss: 0.0082\n",
            "Epoch 230, Loss: 0.0082\n",
            "Epoch 240, Loss: 0.0082\n",
            "Epoch 250, Loss: 0.0081\n",
            "Epoch 260, Loss: 0.0081\n",
            "Epoch 270, Loss: 0.0081\n",
            "Epoch 280, Loss: 0.0081\n",
            "Epoch 290, Loss: 0.0081\n",
            "Epoch 300, Loss: 0.0080\n",
            "Epoch 310, Loss: 0.0080\n",
            "Epoch 320, Loss: 0.0080\n",
            "Epoch 330, Loss: 0.0080\n",
            "Epoch 340, Loss: 0.0080\n",
            "Epoch 350, Loss: 0.0079\n",
            "Epoch 360, Loss: 0.0079\n",
            "Epoch 370, Loss: 0.0079\n",
            "Epoch 380, Loss: 0.0079\n",
            "Epoch 390, Loss: 0.0079\n",
            "Epoch 400, Loss: 0.0079\n",
            "Epoch 410, Loss: 0.0079\n",
            "Epoch 420, Loss: 0.0084\n",
            "Epoch 430, Loss: 0.0091\n",
            "Epoch 440, Loss: 0.0080\n",
            "Epoch 450, Loss: 0.0080\n",
            "Epoch 460, Loss: 0.0078\n",
            "Epoch 470, Loss: 0.0078\n",
            "Epoch 480, Loss: 0.0078\n",
            "Epoch 490, Loss: 0.0078\n",
            "Epoch 500, Loss: 0.0078\n",
            "Epoch 510, Loss: 0.0078\n",
            "Epoch 520, Loss: 0.0082\n",
            "Epoch 530, Loss: 0.0089\n",
            "Epoch 540, Loss: 0.0081\n",
            "Epoch 550, Loss: 0.0079\n",
            "Epoch 560, Loss: 0.0078\n",
            "Epoch 570, Loss: 0.0081\n",
            "Epoch 580, Loss: 0.0078\n",
            "Epoch 590, Loss: 0.0084\n",
            "Epoch 600, Loss: 0.0083\n",
            "Epoch 610, Loss: 0.0081\n",
            "Epoch 620, Loss: 0.0085\n",
            "Epoch 630, Loss: 0.0083\n",
            "Epoch 640, Loss: 0.0077\n",
            "Epoch 650, Loss: 0.0079\n",
            "Epoch 660, Loss: 0.0099\n",
            "Epoch 670, Loss: 0.0107\n",
            "Epoch 680, Loss: 0.0080\n",
            "Epoch 690, Loss: 0.0082\n",
            "Epoch 700, Loss: 0.0079\n",
            "Epoch 710, Loss: 0.0077\n",
            "Epoch 720, Loss: 0.0086\n",
            "Epoch 730, Loss: 0.0083\n",
            "Epoch 740, Loss: 0.0079\n",
            "Epoch 750, Loss: 0.0078\n",
            "Epoch 760, Loss: 0.0081\n",
            "Epoch 770, Loss: 0.0095\n",
            "Epoch 780, Loss: 0.0105\n",
            "Epoch 790, Loss: 0.0085\n",
            "Epoch 800, Loss: 0.0108\n",
            "Epoch 810, Loss: 0.0081\n",
            "Epoch 820, Loss: 0.0078\n",
            "Epoch 830, Loss: 0.0082\n",
            "Epoch 840, Loss: 0.0084\n",
            "Epoch 850, Loss: 0.0089\n",
            "Epoch 860, Loss: 0.0100\n",
            "Epoch 870, Loss: 0.0105\n",
            "Epoch 880, Loss: 0.0090\n",
            "Epoch 890, Loss: 0.0102\n",
            "Epoch 900, Loss: 0.0092\n",
            "Epoch 910, Loss: 0.0091\n",
            "Epoch 920, Loss: 0.0079\n",
            "Epoch 930, Loss: 0.0080\n",
            "Epoch 940, Loss: 0.0082\n",
            "Epoch 950, Loss: 0.0087\n",
            "Epoch 960, Loss: 0.0095\n",
            "Epoch 970, Loss: 0.0103\n",
            "Epoch 980, Loss: 0.0108\n",
            "Epoch 990, Loss: 0.0103\n"
          ]
        }
      ]
    },
    {
      "cell_type": "markdown",
      "source": [
        "# Test model"
      ],
      "metadata": {
        "id": "_KSl2DQhqpDn"
      }
    },
    {
      "cell_type": "code",
      "source": [
        "# Test model and calculate average absolute error over an interval\n",
        "def test_model(model, X_test, y_test, scaler, interval=30):\n",
        "    model.eval()\n",
        "    predictions = []\n",
        "    actuals = []\n",
        "\n",
        "    with torch.no_grad():\n",
        "        for i in range(interval):\n",
        "            test_seq = X_test[i].unsqueeze(0)\n",
        "            prediction = model(test_seq)\n",
        "            predicted_temp = scaler.inverse_transform(prediction.cpu().numpy().reshape(-1, 1)).flatten()[0]\n",
        "            actual_temp = scaler.inverse_transform(y_test[i].cpu().numpy().reshape(-1, 1)).flatten()[0]\n",
        "            predictions.append(predicted_temp)\n",
        "            actuals.append(actual_temp)\n",
        "\n",
        "    # Calculate mean absolute error (MAE) over the interval and display predictions vs. actual values\n",
        "    mae = mean_absolute_error(actuals, predictions)\n",
        "    print(f'Interval Mean Absolute Error (MAE): {mae:.4f}')\n",
        "\n",
        "# Test LSTM model performance over an interval\n",
        "print(\"Testing LSTM model over interval...\")\n",
        "test_model(lstm_model, X_test, y_test, scaler)\n",
        "\n",
        "# Test RNN model performance over an interval\n",
        "print(\"Testing RNN model over interval...\")\n",
        "test_model(rnn_model, X_test, y_test, scaler)\n",
        "\n"
      ],
      "metadata": {
        "colab": {
          "base_uri": "https://localhost:8080/"
        },
        "id": "9AHudKjVqs1P",
        "outputId": "2ad54e96-9b7f-45e2-eafd-d105709792da"
      },
      "execution_count": 15,
      "outputs": [
        {
          "output_type": "stream",
          "name": "stdout",
          "text": [
            "Testing LSTM model over interval...\n",
            "Interval Mean Absolute Error (MAE): 1.5975\n",
            "Testing RNN model over interval...\n",
            "Interval Mean Absolute Error (MAE): 1.8236\n"
          ]
        }
      ]
    }
  ]
}