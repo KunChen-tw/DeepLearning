{
  "nbformat": 4,
  "nbformat_minor": 0,
  "metadata": {
    "colab": {
      "provenance": [],
      "authorship_tag": "ABX9TyMFACBu7hZqYOEcfIjok7LO",
      "include_colab_link": true
    },
    "kernelspec": {
      "name": "python3",
      "display_name": "Python 3"
    },
    "language_info": {
      "name": "python"
    }
  },
  "cells": [
    {
      "cell_type": "markdown",
      "metadata": {
        "id": "view-in-github",
        "colab_type": "text"
      },
      "source": [
        "<a href=\"https://colab.research.google.com/github/KunChen-tw/DeepLearning/blob/main/deeplearning1013_Ch3_1.ipynb\" target=\"_parent\"><img src=\"https://colab.research.google.com/assets/colab-badge.svg\" alt=\"Open In Colab\"/></a>"
      ]
    },
    {
      "cell_type": "markdown",
      "source": [
        "# Metrics and Confusion Matrix"
      ],
      "metadata": {
        "id": "0MFE427sXrFi"
      }
    },
    {
      "cell_type": "code",
      "execution_count": null,
      "metadata": {
        "colab": {
          "base_uri": "https://localhost:8080/",
          "height": 343
        },
        "id": "3UsS8yReXgQu",
        "outputId": "a215c83c-3687-4c1d-e66d-d3a178e194df"
      },
      "outputs": [
        {
          "output_type": "stream",
          "name": "stdout",
          "text": [
            "[[2 1]\n",
            " [2 3]]\n",
            "TP=3, FP=1, TN=2, FN=2\n"
          ]
        },
        {
          "output_type": "display_data",
          "data": {
            "text/plain": [
              "<Figure size 250x250 with 1 Axes>"
            ],
            "image/png": "[encoded data removed]"
          },
          "metadata": {}
        }
      ],
      "source": [
        "import numpy as np\n",
        "import matplotlib.pyplot as plt\n",
        "from sklearn.metrics import accuracy_score, classification_report\n",
        "from sklearn.metrics import precision_score, recall_score, confusion_matrix\n",
        "from sklearn.metrics import confusion_matrix\n",
        "\n",
        "y_true = [0, 0, 0, 1, 1, 1, 1, 1]\n",
        "y_pred = [0, 1, 0, 1, 0, 1, 0, 1]\n",
        "\n",
        "# Confusion Matrix\n",
        "print(confusion_matrix(y_true, y_pred))\n",
        "tn, fp, fn, tp  = confusion_matrix(y_true, y_pred).ravel()\n",
        "print(f'TP={tp}, FP={fp}, TN={tn}, FN={fn}')\n",
        "\n",
        "fig, ax = plt.subplots(figsize=(2.5, 2.5))\n",
        "\n",
        "ax.matshow([[1, 0], [0, 1]], cmap=plt.cm.Reds, alpha=0.3)\n",
        "\n",
        "ax.text(x=0, y=0, s=tp, va='center', ha='center')\n",
        "ax.text(x=1, y=0, s=fp, va='center', ha='center')\n",
        "ax.text(x=0, y=1, s=tn, va='center', ha='center')\n",
        "ax.text(x=1, y=1, s=fn, va='center', ha='center')\n",
        "\n",
        "plt.xlabel('Real', fontsize=20)\n",
        "plt.ylabel('Predict', fontsize=20)\n",
        "\n",
        "plt.xticks([0,1], ['T', 'F'])\n",
        "plt.yticks([0,1], ['P', 'N'])\n",
        "plt.show()\n"
      ]
    },
    {
      "cell_type": "markdown",
      "source": [
        "# Metrics and Confusion Matrix (2)"
      ],
      "metadata": {
        "id": "gdEqkAwfYCXD"
      }
    },
    {
      "cell_type": "code",
      "source": [
        "print(f'accuracy_score:{accuracy_score(y_true, y_pred)}')\n",
        "print(f'recompute = {(tp+fn) / (tp+tn+fp+fn)}')\n",
        "\n",
        "print(f'precision_score:{precision_score(y_true, y_pred)}')\n",
        "print(f'recompute={(tp) / (tp+fp)}')\n",
        "\n",
        "print(f'recall_score:{recall_score(y_true, y_pred)}')\n",
        "print(f'recompute={(tp) / (tp+fn)}')\n",
        "\n",
        "\n"
      ],
      "metadata": {
        "colab": {
          "base_uri": "https://localhost:8080/"
        },
        "id": "nK7bclfVYHty",
        "outputId": "9d1e18d6-7940-43da-d097-e7891c4892ec"
      },
      "execution_count": null,
      "outputs": [
        {
          "output_type": "stream",
          "name": "stdout",
          "text": [
            "accuracy_score:0.625\n",
            "recompute = 0.625\n",
            "precision_score:0.75\n",
            "recompute=0.75\n",
            "recall_score:0.6\n",
            "recompute=0.6\n"
          ]
        }
      ]
    }
  ]
}