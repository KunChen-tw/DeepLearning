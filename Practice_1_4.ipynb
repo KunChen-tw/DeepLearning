{
  "nbformat": 4,
  "nbformat_minor": 0,
  "metadata": {
    "colab": {
      "provenance": [],
      "authorship_tag": "ABX9TyNhO6irmKAXPttajqZ8M3OL",
      "include_colab_link": true
    },
    "kernelspec": {
      "name": "python3",
      "display_name": "Python 3"
    },
    "language_info": {
      "name": "python"
    }
  },
  "cells": [
    {
      "cell_type": "markdown",
      "metadata": {
        "id": "view-in-github",
        "colab_type": "text"
      },
      "source": [
        "<a href=\"https://colab.research.google.com/github/KunChen-tw/DeepLearning/blob/main/Practice_1_4.ipynb\" target=\"_parent\"><img src=\"https://colab.research.google.com/assets/colab-badge.svg\" alt=\"Open In Colab\"/></a>"
      ]
    },
    {
      "cell_type": "markdown",
      "source": [
        "# Practice 1-4\n",
        "if $y=x^2+1$ and $z=y^5$, find gradient $\\left. \\frac{dz}{dx} \\right|_{x=1}$"
      ],
      "metadata": {
        "id": "H9n8gdzcnGSE"
      }
    },
    {
      "cell_type": "code",
      "source": [
        "import torch\n",
        "def dfunc(x):\n",
        "  x = torch.tensor(float(x), requires_grad=True)\n",
        "  y = x**2+1\n",
        "  z = y**5\n",
        "  z.backward()\n",
        "  return x.grad\n",
        "\n",
        "print(dfunc(1))\n"
      ],
      "metadata": {
        "colab": {
          "base_uri": "https://localhost:8080/"
        },
        "id": "UiIBRcYMnnn8",
        "outputId": "e5c1c638-ff6a-4de0-954e-08bbedc1b817"
      },
      "execution_count": null,
      "outputs": [
        {
          "output_type": "stream",
          "name": "stdout",
          "text": [
            "tensor(160.)\n"
          ]
        }
      ]
    },
    {
      "cell_type": "markdown",
      "source": [
        "# 手算過程\n",
        "\n",
        "跟據連鎖律\n",
        "$$\\frac{dz}{dx} = \\frac{dz}{dy} \\cdot \\frac{dy}{dx}$$\n",
        "\n",
        "首先，對 $y=x^2+1$ 求導數：\n",
        "$$\\frac{dy}{dx} = 2x$$\n",
        "\n",
        "對 $z=y^5$ 求導數：\n",
        "$$\\frac{dz}{dy} = 5y^4$$\n",
        "\n",
        "因此：\n",
        "$$\\frac{dz}{dx} = 5y^4 \\cdot 2x = 10xy^4 $$\n",
        "\n",
        "當 $x = 1$ 時\n",
        "$$y = 1^2 + 1 = 2$$\n",
        "\n",
        "將 $x=1$ , $ y=2$ 代入\n",
        "\n",
        "$$\\frac{dz}{dx} = 10 \\cdot 1 \\cdot 2^4 = 10 \\cdot 16 = 160$$"
      ],
      "metadata": {
        "id": "TRwTry9HQYDx"
      }
    },
    {
      "cell_type": "code",
      "source": [],
      "metadata": {
        "id": "oF3dwLGXqKBL"
      },
      "execution_count": null,
      "outputs": []
    }
  ]
}