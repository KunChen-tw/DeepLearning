{
  "nbformat": 4,
  "nbformat_minor": 0,
  "metadata": {
    "colab": {
      "provenance": [],
      "authorship_tag": "ABX9TyNPeKiPxb1Sb/ORDdwjnzxI",
      "include_colab_link": true
    },
    "kernelspec": {
      "name": "python3",
      "display_name": "Python 3"
    },
    "language_info": {
      "name": "python"
    }
  },
  "cells": [
    {
      "cell_type": "markdown",
      "metadata": {
        "id": "view-in-github",
        "colab_type": "text"
      },
      "source": [
        "<a href=\"https://colab.research.google.com/github/KunChen-tw/DeepLearning/blob/main/deeplearning1013_Ch4_2.ipynb\" target=\"_parent\"><img src=\"https://colab.research.google.com/assets/colab-badge.svg\" alt=\"Open In Colab\"/></a>"
      ]
    },
    {
      "cell_type": "markdown",
      "source": [
        "# 使用 convolve2d 直接計算"
      ],
      "metadata": {
        "id": "pKBrjgDkqM_k"
      }
    },
    {
      "cell_type": "code",
      "execution_count": null,
      "metadata": {
        "colab": {
          "base_uri": "https://localhost:8080/"
        },
        "id": "OmCfSzwaqMl2",
        "outputId": "06e32b3b-946a-4822-a0b3-04426978b2ee"
      },
      "outputs": [
        {
          "output_type": "stream",
          "name": "stdout",
          "text": [
            "[[26 17 20]\n",
            " [ 9 23 21]\n",
            " [25 23 22]]\n",
            "[[ 8 22 18 16 22]\n",
            " [14 26 17 20 30]\n",
            " [22  9 23 21 18]\n",
            " [ 7 25 23 22 21]\n",
            " [ 5  6 20 11  8]]\n",
            "[[ 1  5 10 13 10  5  1]\n",
            " [ 0  8 22 18 16 22  6]\n",
            " [ 5 14 26 17 20 30  4]\n",
            " [ 1 22  9 23 21 18 15]\n",
            " [ 5  7 25 23 22 21  6]\n",
            " [ 1  5  6 20 11  8  6]\n",
            " [ 1  1  7  4 12  4  4]]\n"
          ]
        }
      ],
      "source": [
        "import numpy as np\n",
        "from scipy.signal import convolve2d\n",
        "\n",
        "A = np.array([[1, 2, 3, 2, 1],\n",
        "              [0, 5, 1, 1, 6],\n",
        "              [4, 0, 2, 2, 2],\n",
        "              [1, 2, 1, 1, 3],\n",
        "              [1, 1, 5, 2, 2]], dtype=int)\n",
        "\n",
        "V = np.array([[1, 3, 1], [0, 3, 0], [1, 0, 2]], dtype=int)\n",
        "\n",
        "print(convolve2d(A, V, mode='valid'))\n",
        "print(convolve2d(A, V, mode='same')) # 將原來的A外面再加一圈 0\n",
        "print(convolve2d(A, V, mode='full')) # 將原來的A外面再加二圈 0\n"
      ]
    }
  ]
}